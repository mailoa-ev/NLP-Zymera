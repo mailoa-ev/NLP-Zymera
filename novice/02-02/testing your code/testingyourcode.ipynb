{
 "cells": [
  {
   "cell_type": "markdown",
   "metadata": {},
   "source": [
    "### Sumber bacaan: https://docs.python-guide.org/writing/tests/"
   ]
  },
  {
   "cell_type": "code",
   "execution_count": 1,
   "metadata": {},
   "outputs": [],
   "source": [
    "import unittest\n",
    "\n",
    "def fun(x):\n",
    "    return x + 1\n",
    "\n",
    "class MyTest(unittest.TestCase):\n",
    "    def test(self):\n",
    "        self.assertEqual(fun(3), 4)"
   ]
  },
  {
   "cell_type": "code",
   "execution_count": 2,
   "metadata": {},
   "outputs": [],
   "source": [
    "def square(x):\n",
    "    \"\"\"Return the square of x.\n",
    "\n",
    "    >>> square(2)\n",
    "    4\n",
    "    >>> square(-2)\n",
    "    4\n",
    "    \"\"\"\n",
    "\n",
    "    return x * x\n",
    "\n",
    "if __name__ == '__main__':\n",
    "    import doctest\n",
    "    doctest.testmod()"
   ]
  },
  {
   "cell_type": "code",
   "execution_count": 3,
   "metadata": {},
   "outputs": [
    {
     "name": "stdout",
     "output_type": "stream",
     "text": [
      "Collecting hypothesis\n",
      "  Downloading hypothesis-6.34.2-py3-none-any.whl (376 kB)\n",
      "Collecting sortedcontainers<3.0.0,>=2.1.0\n",
      "  Downloading sortedcontainers-2.4.0-py2.py3-none-any.whl (29 kB)\n",
      "Requirement already satisfied: attrs>=19.2.0 in c:\\users\\evangs mailoa\\appdata\\local\\programs\\python\\python39\\lib\\site-packages (from hypothesis) (21.4.0)\n",
      "Installing collected packages: sortedcontainers, hypothesis\n",
      "Successfully installed hypothesis-6.34.2 sortedcontainers-2.4.0\n",
      "Note: you may need to restart the kernel to use updated packages.\n"
     ]
    },
    {
     "name": "stderr",
     "output_type": "stream",
     "text": [
      "WARNING: You are using pip version 21.2.4; however, version 21.3.1 is available.\n",
      "You should consider upgrading via the 'C:\\Users\\EVANGS MAILOA\\AppData\\Local\\Programs\\Python\\Python39\\python.exe -m pip install --upgrade pip' command.\n"
     ]
    }
   ],
   "source": [
    "pip install hypothesis"
   ]
  },
  {
   "cell_type": "code",
   "execution_count": 4,
   "metadata": {},
   "outputs": [],
   "source": [
    "# sumber: https://hypothesis.readthedocs.io/en/latest/quickstart.html\n",
    "\n",
    "def encode(input_string):\n",
    "    count = 1\n",
    "    prev = \"\"\n",
    "    lst = []\n",
    "    for character in input_string:\n",
    "        if character != prev:\n",
    "            if prev:\n",
    "                entry = (prev, count)\n",
    "                lst.append(entry)\n",
    "            count = 1\n",
    "            prev = character\n",
    "        else:\n",
    "            count += 1\n",
    "    entry = (character, count)\n",
    "    lst.append(entry)\n",
    "    return lst\n",
    "\n",
    "\n",
    "def decode(lst):\n",
    "    q = \"\"\n",
    "    for character, count in lst:\n",
    "        q += character * count\n",
    "    return q"
   ]
  },
  {
   "cell_type": "code",
   "execution_count": 5,
   "metadata": {},
   "outputs": [],
   "source": [
    "from hypothesis import given\n",
    "from hypothesis.strategies import text\n",
    "\n",
    "\n",
    "@given(text())\n",
    "def test_decode_inverts_encode(s):\n",
    "    assert decode(encode(s)) == s"
   ]
  },
  {
   "cell_type": "code",
   "execution_count": 6,
   "metadata": {},
   "outputs": [],
   "source": [
    "from hypothesis import given, strategies as st\n",
    "\n",
    "\n",
    "@given(st.integers(), st.integers())\n",
    "def test_ints_are_commutative(x, y):\n",
    "    assert x + y == y + x\n",
    "\n",
    "\n",
    "@given(x=st.integers(), y=st.integers())\n",
    "def test_ints_cancel(x, y):\n",
    "    assert (x + y) - y == x\n",
    "\n",
    "\n",
    "@given(st.lists(st.integers()))\n",
    "def test_reversing_twice_gives_same_list(xs):\n",
    "    # This will generate lists of arbitrary length (usually between 0 and\n",
    "    # 100 elements) whose elements are integers.\n",
    "    ys = list(xs)\n",
    "    ys.reverse()\n",
    "    ys.reverse()\n",
    "    assert xs == ys\n",
    "\n",
    "\n",
    "@given(st.tuples(st.booleans(), st.text()))\n",
    "def test_look_tuples_work_too(t):\n",
    "    # A tuple is generated as the one you provided, with the corresponding\n",
    "    # types in those positions.\n",
    "    assert len(t) == 2\n",
    "    assert isinstance(t[0], bool)\n",
    "    assert isinstance(t[1], str)"
   ]
  }
 ],
 "metadata": {
  "interpreter": {
   "hash": "90f1bec0ab3333bf3bb7975c69a4c8770889fb3e307d7059d5773e89f2027833"
  },
  "kernelspec": {
   "display_name": "Python 3.9.9 64-bit (system)",
   "language": "python",
   "name": "python3"
  },
  "language_info": {
   "codemirror_mode": {
    "name": "ipython",
    "version": 3
   },
   "file_extension": ".py",
   "mimetype": "text/x-python",
   "name": "python",
   "nbconvert_exporter": "python",
   "pygments_lexer": "ipython3",
   "version": "3.9.9"
  },
  "orig_nbformat": 4
 },
 "nbformat": 4,
 "nbformat_minor": 2
}
