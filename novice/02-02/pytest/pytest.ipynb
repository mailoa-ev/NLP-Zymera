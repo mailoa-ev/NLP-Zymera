{
 "cells": [
  {
   "cell_type": "code",
   "execution_count": 1,
   "metadata": {},
   "outputs": [
    {
     "name": "stdout",
     "output_type": "stream",
     "text": [
      "Requirement already satisfied: pytest in c:\\users\\evangs mailoa\\appdata\\local\\programs\\python\\python39\\lib\\site-packages (6.2.5)\n",
      "Requirement already satisfied: colorama in c:\\users\\evangs mailoa\\appdata\\local\\programs\\python\\python39\\lib\\site-packages (from pytest) (0.4.4)\n",
      "Requirement already satisfied: packaging in c:\\users\\evangs mailoa\\appdata\\local\\programs\\python\\python39\\lib\\site-packages (from pytest) (21.3)\n",
      "Requirement already satisfied: pluggy<2.0,>=0.12 in c:\\users\\evangs mailoa\\appdata\\local\\programs\\python\\python39\\lib\\site-packages (from pytest) (1.0.0)\n",
      "Requirement already satisfied: iniconfig in c:\\users\\evangs mailoa\\appdata\\local\\programs\\python\\python39\\lib\\site-packages (from pytest) (1.1.1)\n",
      "Requirement already satisfied: atomicwrites>=1.0 in c:\\users\\evangs mailoa\\appdata\\local\\programs\\python\\python39\\lib\\site-packages (from pytest) (1.4.0)\n",
      "Requirement already satisfied: attrs>=19.2.0 in c:\\users\\evangs mailoa\\appdata\\local\\programs\\python\\python39\\lib\\site-packages (from pytest) (21.4.0)\n",
      "Requirement already satisfied: toml in c:\\users\\evangs mailoa\\appdata\\local\\programs\\python\\python39\\lib\\site-packages (from pytest) (0.10.2)\n",
      "Requirement already satisfied: py>=1.8.2 in c:\\users\\evangs mailoa\\appdata\\local\\programs\\python\\python39\\lib\\site-packages (from pytest) (1.11.0)\n",
      "Requirement already satisfied: pyparsing!=3.0.5,>=2.0.2 in c:\\users\\evangs mailoa\\appdata\\local\\programs\\python\\python39\\lib\\site-packages (from packaging->pytest) (3.0.6)\n",
      "Note: you may need to restart the kernel to use updated packages.\n"
     ]
    },
    {
     "name": "stderr",
     "output_type": "stream",
     "text": [
      "WARNING: You are using pip version 21.2.4; however, version 21.3.1 is available.\n",
      "You should consider upgrading via the 'C:\\Users\\EVANGS MAILOA\\AppData\\Local\\Programs\\Python\\Python39\\python.exe -m pip install --upgrade pip' command.\n"
     ]
    }
   ],
   "source": [
    "pip install -U pytest"
   ]
  }
 ],
 "metadata": {
  "interpreter": {
   "hash": "90f1bec0ab3333bf3bb7975c69a4c8770889fb3e307d7059d5773e89f2027833"
  },
  "kernelspec": {
   "display_name": "Python 3.9.9 64-bit (system)",
   "language": "python",
   "name": "python3"
  },
  "language_info": {
   "codemirror_mode": {
    "name": "ipython",
    "version": 3
   },
   "file_extension": ".py",
   "mimetype": "text/x-python",
   "name": "python",
   "nbconvert_exporter": "python",
   "pygments_lexer": "ipython3",
   "version": "3.9.9"
  },
  "orig_nbformat": 4
 },
 "nbformat": 4,
 "nbformat_minor": 2
}
