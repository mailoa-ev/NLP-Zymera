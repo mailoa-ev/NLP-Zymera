{
 "cells": [
  {
   "cell_type": "markdown",
   "id": "90efe4c7",
   "metadata": {},
   "source": [
    "# Python - Object Oriented"
   ]
  },
  {
   "cell_type": "markdown",
   "id": "fddfd996",
   "metadata": {},
   "source": [
    "#### Sumber bacaan https://www.tutorialspoint.com/python/python_classes_objects.htm"
   ]
  },
  {
   "cell_type": "code",
   "execution_count": 10,
   "id": "1788ee6f",
   "metadata": {},
   "outputs": [
    {
     "name": "stdout",
     "output_type": "stream",
     "text": [
      "Name :  Zara , Salary:  2000\n",
      "Name :  Manni , Salary:  5000\n",
      "Total Employee 2\n"
     ]
    }
   ],
   "source": [
    "class Employee:\n",
    "   'Common base class for all employees'\n",
    "   empCount = 0\n",
    "\n",
    "   def __init__(self, name, salary):\n",
    "      self.name = name\n",
    "      self.salary = salary\n",
    "      Employee.empCount += 1\n",
    "   \n",
    "   def displayCount(self):\n",
    "     print (\"Total Employee \", Employee.empCount)\n",
    "\n",
    "   def displayEmployee(self):\n",
    "      print (\"Name : \", self.name,  \", Salary: \", self.salary)\n",
    "\n",
    "\"This would create first object of Employee class\"\n",
    "emp1 = Employee(\"Zara\", 2000)\n",
    "\"This would create second object of Employee class\"\n",
    "emp2 = Employee(\"Manni\", 5000)\n",
    "emp1.displayEmployee()\n",
    "emp2.displayEmployee()\n",
    "print (\"Total Employee %d\" % Employee.empCount)"
   ]
  },
  {
   "cell_type": "raw",
   "id": "3c70e45d",
   "metadata": {},
   "source": [
    "Class Inheritance"
   ]
  },
  {
   "cell_type": "code",
   "execution_count": 11,
   "id": "a67b540f",
   "metadata": {},
   "outputs": [
    {
     "name": "stdout",
     "output_type": "stream",
     "text": [
      "Calling child constructor\n",
      "Calling child method\n",
      "Calling parent method\n",
      "Parent attribute : 200\n"
     ]
    }
   ],
   "source": [
    "class Parent:        # define parent class\n",
    "    parentAttr = 100\n",
    "\n",
    "    def __init__(self):\n",
    "        print(\"Calling parent constructor\")\n",
    "\n",
    "    def parentMethod(self):\n",
    "        print('Calling parent method')\n",
    "\n",
    "    def setAttr(self, attr):\n",
    "        Parent.parentAttr = attr\n",
    "\n",
    "    def getAttr(self):\n",
    "        print(\"Parent attribute :\", Parent.parentAttr)\n",
    "\n",
    "\n",
    "class Child(Parent):  # define child class\n",
    "    def __init__(self):\n",
    "        print(\"Calling child constructor\")\n",
    "\n",
    "    def childMethod(self):\n",
    "        print('Calling child method')\n",
    "\n",
    "\n",
    "c = Child()          # instance of child\n",
    "c.childMethod()      # child calls its method\n",
    "c.parentMethod()     # calls parent's method\n",
    "c.setAttr(200)       # again call parent's method\n",
    "c.getAttr()          # again call parent's method\n"
   ]
  },
  {
   "cell_type": "raw",
   "id": "814ceffa",
   "metadata": {},
   "source": [
    "Destroying Object"
   ]
  },
  {
   "cell_type": "code",
   "execution_count": 12,
   "id": "7fb1117d",
   "metadata": {},
   "outputs": [
    {
     "name": "stdout",
     "output_type": "stream",
     "text": [
      "2616664561792 2616664561792 2616664561792\n",
      "Point destroyed\n"
     ]
    }
   ],
   "source": [
    "class Point:\n",
    "    def __init__(self, x=0, y=0):\n",
    "        self.x = x\n",
    "        self.y = y\n",
    "\n",
    "    def __del__(self):\n",
    "        class_name = self.__class__.__name__\n",
    "        print(class_name, \"destroyed\")\n",
    "\n",
    "\n",
    "pt1 = Point()\n",
    "pt2 = pt1\n",
    "pt3 = pt1\n",
    "print(id(pt1), id(pt2), id(pt3))  # prints the ids of the obejcts\n",
    "del pt1\n",
    "del pt2\n",
    "del pt3"
   ]
  },
  {
   "cell_type": "raw",
   "id": "3756620b",
   "metadata": {},
   "source": [
    "Overloading Operator"
   ]
  },
  {
   "cell_type": "code",
   "execution_count": 13,
   "id": "63afbaeb",
   "metadata": {},
   "outputs": [
    {
     "name": "stdout",
     "output_type": "stream",
     "text": [
      "Vector (7, 8)\n"
     ]
    }
   ],
   "source": [
    "class Vector:\n",
    "    def __init__(self, a, b):\n",
    "        self.a = a\n",
    "        self.b = b\n",
    "\n",
    "    def __str__(self):\n",
    "        return 'Vector (%d, %d)' % (self.a, self.b)\n",
    "\n",
    "    def __add__(self, other):\n",
    "        return Vector(self.a + other.a, self.b + other.b)\n",
    "\n",
    "\n",
    "v1 = Vector(2, 10)\n",
    "v2 = Vector(5, -2)\n",
    "print(v1 + v2)"
   ]
  },
  {
   "cell_type": "raw",
   "id": "517f2c7c",
   "metadata": {},
   "source": [
    "Overriding Method"
   ]
  },
  {
   "cell_type": "code",
   "execution_count": 14,
   "id": "65ba4d78",
   "metadata": {},
   "outputs": [
    {
     "name": "stdout",
     "output_type": "stream",
     "text": [
      "Calling child method\n"
     ]
    }
   ],
   "source": [
    "class Parent:        # define parent class\n",
    "    def myMethod(self):\n",
    "        print('Calling parent method')\n",
    "\n",
    "\n",
    "class Child(Parent):  # define child class\n",
    "    def myMethod(self):\n",
    "        print('Calling child method')\n",
    "\n",
    "\n",
    "c = Child()          # instance of child\n",
    "c.myMethod()         # child calls overridden method\n"
   ]
  },
  {
   "cell_type": "raw",
   "id": "b83819f1",
   "metadata": {},
   "source": [
    "Data Hiding"
   ]
  },
  {
   "cell_type": "code",
   "execution_count": 16,
   "id": "7f6b830b",
   "metadata": {},
   "outputs": [
    {
     "name": "stdout",
     "output_type": "stream",
     "text": [
      "1\n",
      "2\n",
      "2\n"
     ]
    }
   ],
   "source": [
    "class JustCounter:\n",
    "    __secretCount = 0\n",
    "\n",
    "    def count(self):\n",
    "        self.__secretCount += 1\n",
    "        print(self.__secretCount)\n",
    "\n",
    "\n",
    "counter = JustCounter()\n",
    "counter.count()\n",
    "counter.count()\n",
    "# print(counter.__secretCount)\n",
    "print(counter._JustCounter__secretCount)\n"
   ]
  },
  {
   "cell_type": "markdown",
   "id": "8b6a56da",
   "metadata": {},
   "source": [
    "#### Sumber bacaan https://www.thedigitalcatonline.com/blog/2020/03/27/mixin-classes-in-python/"
   ]
  },
  {
   "cell_type": "raw",
   "id": "46c906a3",
   "metadata": {},
   "source": [
    "Mixin Class"
   ]
  },
  {
   "cell_type": "code",
   "execution_count": 17,
   "id": "feae77e1",
   "metadata": {},
   "outputs": [
    {
     "name": "stdout",
     "output_type": "stream",
     "text": [
      "(<class '__main__.Child'>, <class '__main__.Parent1'>, <class '__main__.Parent2'>, <class '__main__.Ancestor'>, <class 'object'>)\n",
      "Ancestor: rewind\n",
      "Parent1: open\n",
      "Parent2: close\n",
      "Child: flush\n"
     ]
    }
   ],
   "source": [
    "class Ancestor:\n",
    "    def rewind(self):\n",
    "        print(\"Ancestor: rewind\")\n",
    "\n",
    "\n",
    "class Parent1(Ancestor):\n",
    "    def open(self):\n",
    "        print(\"Parent1: open\")\n",
    "\n",
    "\n",
    "class Parent2(Ancestor):\n",
    "    def open(self):\n",
    "        print(\"Parent2: open\")\n",
    "\n",
    "    def close(self):\n",
    "        print(\"Parent2: close\")\n",
    "\n",
    "    def flush(self):\n",
    "        print(\"Parent2: flush\")\n",
    "\n",
    "\n",
    "class Child(Parent1, Parent2):\n",
    "    def flush(self):\n",
    "        print(\"Child: flush\")\n",
    "\n",
    "\n",
    "print(Child.__mro__)\n",
    "\n",
    "c = Child()\n",
    "c.rewind()\n",
    "c.open()\n",
    "c.close()\n",
    "c.flush()\n"
   ]
  },
  {
   "cell_type": "raw",
   "id": "13cc4264",
   "metadata": {},
   "source": [
    "Graphical Entity"
   ]
  },
  {
   "cell_type": "code",
   "execution_count": 15,
   "id": "614ecebd",
   "metadata": {},
   "outputs": [
    {
     "name": "stdout",
     "output_type": "stream",
     "text": [
      "500\n",
      "400\n"
     ]
    }
   ],
   "source": [
    "class GraphicalEntity:\n",
    "    def __init__(self, pos_x, pos_y, size_x, size_y):\n",
    "        self.pos_x = pos_x\n",
    "        self.pos_y = pos_y\n",
    "        self.size_x = size_x\n",
    "        self.size_y = size_y\n",
    "\n",
    "\n",
    "class Button(GraphicalEntity):\n",
    "    def __init__(self, pos_x, pos_y, size_x, size_y):\n",
    "        super().__init__(pos_x, pos_y, size_x, size_y)\n",
    "        self.status = False\n",
    "\n",
    "    def toggle(self):\n",
    "        self.status = not self.status\n",
    "\n",
    "\n",
    "class LimitSizeMixin:\n",
    "    def __init__(self, pos_x, pos_y, size_x, size_y):\n",
    "        size_x = min(size_x, 500)\n",
    "        size_y = min(size_y, 400)\n",
    "        super().__init__(pos_x, pos_y, size_x, size_y)\n",
    "\n",
    "\n",
    "class LimitSizeButton(LimitSizeMixin, Button):\n",
    "    pass\n",
    "\n",
    "\n",
    "b = LimitSizeButton(10, 20, 2000, 1000)\n",
    "print(b.size_x)\n",
    "print(b.size_y)\n"
   ]
  }
 ],
 "metadata": {
  "kernelspec": {
   "display_name": "Python 3 (ipykernel)",
   "language": "python",
   "name": "python3"
  },
  "language_info": {
   "codemirror_mode": {
    "name": "ipython",
    "version": 3
   },
   "file_extension": ".py",
   "mimetype": "text/x-python",
   "name": "python",
   "nbconvert_exporter": "python",
   "pygments_lexer": "ipython3",
   "version": "3.9.7"
  }
 },
 "nbformat": 4,
 "nbformat_minor": 5
}
