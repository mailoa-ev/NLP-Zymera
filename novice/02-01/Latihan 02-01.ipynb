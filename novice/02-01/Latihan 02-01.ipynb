{
 "cells": [
  {
   "cell_type": "markdown",
   "id": "d4fb32f6",
   "metadata": {},
   "source": [
    "# Functional Programming"
   ]
  },
  {
   "cell_type": "markdown",
   "id": "16d43b63",
   "metadata": {},
   "source": [
    "Sumber belajar: https://www.hackerearth.com/practice/python/functional-programming/functional-programming-1/tutorial/"
   ]
  },
  {
   "cell_type": "markdown",
   "id": "752ddbfe",
   "metadata": {},
   "source": [
    "Functions as first class objects in python:"
   ]
  },
  {
   "cell_type": "code",
   "execution_count": 1,
   "id": "3f50667c",
   "metadata": {},
   "outputs": [
    {
     "data": {
      "text/plain": [
       "[1, 2, 3]"
      ]
     },
     "execution_count": 1,
     "metadata": {},
     "output_type": "execute_result"
    }
   ],
   "source": [
    "list(map(int, [\"1\", \"2\", \"3\"]))"
   ]
  },
  {
   "cell_type": "code",
   "execution_count": 3,
   "id": "cc39697a",
   "metadata": {},
   "outputs": [
    {
     "name": "stdout",
     "output_type": "stream",
     "text": [
      "haaaiii world\n"
     ]
    }
   ],
   "source": [
    "def hello_world(h):\n",
    "    def world(w):\n",
    "        print(h,w)\n",
    "    return world\n",
    "\n",
    "h = hello_world\n",
    "x = h(\"haaaiii\")\n",
    "x(\"world\")"
   ]
  },
  {
   "cell_type": "code",
   "execution_count": 4,
   "id": "8439067e",
   "metadata": {},
   "outputs": [
    {
     "data": {
      "text/plain": [
       "[<function __main__.hello_world(h)>,\n",
       " <function __main__.hello_world.<locals>.world(w)>]"
      ]
     },
     "execution_count": 4,
     "metadata": {},
     "output_type": "execute_result"
    }
   ],
   "source": [
    "function_list = [h, x]\n",
    "function_list"
   ]
  },
  {
   "cell_type": "markdown",
   "id": "77eeabb9",
   "metadata": {},
   "source": [
    "Python functional purity"
   ]
  },
  {
   "cell_type": "code",
   "execution_count": 5,
   "id": "9d7ecc92",
   "metadata": {},
   "outputs": [],
   "source": [
    "def naive_sum(list):\n",
    "    s = 0\n",
    "    for l in list:\n",
    "        s += l\n",
    "    return s"
   ]
  },
  {
   "cell_type": "markdown",
   "id": "a7fbd8f5",
   "metadata": {},
   "source": [
    "can be replaced with the following construct:"
   ]
  },
  {
   "cell_type": "code",
   "execution_count": 7,
   "id": "65f27e8d",
   "metadata": {},
   "outputs": [],
   "source": [
    "def sum(list):\n",
    "    s = 0\n",
    "    for l in list:\n",
    "        s += l\n",
    "    return s"
   ]
  },
  {
   "cell_type": "markdown",
   "id": "b856d001",
   "metadata": {},
   "source": [
    "Reducing the usage of loops in Python:"
   ]
  },
  {
   "cell_type": "code",
   "execution_count": 8,
   "id": "2390fd58",
   "metadata": {},
   "outputs": [
    {
     "name": "stdout",
     "output_type": "stream",
     "text": [
      "783012621312\n"
     ]
    }
   ],
   "source": [
    "# define a function `call` where you provide the function and the arguments\n",
    "def call(x, f):\n",
    "    return f(x)\n",
    "\n",
    "# define a function that returns the square\n",
    "square = lambda x : x*x\n",
    "\n",
    "# define a function that returns the increment\n",
    "increment = lambda x : x+1\n",
    "\n",
    "# define a function that returns the cube\n",
    "cube = lambda x : x*x*x\n",
    "\n",
    "# define a function that returns the decrement\n",
    "decrement = lambda x : x-1\n",
    "\n",
    "# put all the functions in a list in the order that you want to execute them\n",
    "funcs = [square, increment, cube, decrement]\n",
    "\n",
    "# bring it all together. Below is the non functional part. \n",
    "# in functional programming you separate the functional and the non functional parts.\n",
    "from functools import reduce # reduce is in the functools library\n",
    "print(reduce(call, funcs, 96)) # output 783012621312"
   ]
  },
  {
   "cell_type": "markdown",
   "id": "95006bcf",
   "metadata": {},
   "source": [
    "Sumber belajar: https://www.kite.com/blog/python/functional-programming/"
   ]
  },
  {
   "cell_type": "markdown",
   "id": "ee5c3c72",
   "metadata": {},
   "source": [
    "Lambda"
   ]
  },
  {
   "cell_type": "code",
   "execution_count": 17,
   "id": "46a052df",
   "metadata": {},
   "outputs": [
    {
     "name": "stdout",
     "output_type": "stream",
     "text": [
      "9\n"
     ]
    }
   ],
   "source": [
    "(lambda a,b:a+b)(3,4)\n",
    "\n",
    "add = lambda a, b: a + b\n",
    "print(add(4,5))"
   ]
  },
  {
   "cell_type": "code",
   "execution_count": 26,
   "id": "6b11b649",
   "metadata": {},
   "outputs": [
    {
     "name": "stdout",
     "output_type": "stream",
     "text": [
      "25.0\n"
     ]
    }
   ],
   "source": [
    "luas_segitiga = lambda alas, tinggi: 1/2*alas*tinggi\n",
    "print (luas_segitiga(10,5))"
   ]
  },
  {
   "cell_type": "code",
   "execution_count": 18,
   "id": "d29cd704",
   "metadata": {},
   "outputs": [
    {
     "data": {
      "text/plain": [
       "['Isaac Asimov',\n",
       " 'Margaret Atwood',\n",
       " 'Ray Bradbury',\n",
       " 'Octavia Butler',\n",
       " 'Usula K Le Guin',\n",
       " 'Neal Stephenson']"
      ]
     },
     "execution_count": 18,
     "metadata": {},
     "output_type": "execute_result"
    }
   ],
   "source": [
    "authors = ['Octavia Butler', 'Isaac Asimov', 'Neal Stephenson', 'Margaret Atwood', 'Usula K Le Guin', 'Ray Bradbury']\n",
    "sorted(authors, key=len)  # Returns list ordered by length of author name\n",
    "sorted(authors, key=lambda name: name.split()[-1]) "
   ]
  },
  {
   "cell_type": "markdown",
   "id": "91a7e266",
   "metadata": {},
   "source": [
    "Functools"
   ]
  },
  {
   "cell_type": "code",
   "execution_count": 27,
   "id": "201a079b",
   "metadata": {},
   "outputs": [
    {
     "data": {
      "text/plain": [
       "720"
      ]
     },
     "execution_count": 27,
     "metadata": {},
     "output_type": "execute_result"
    }
   ],
   "source": [
    "val = [1,2,3,4,5,6]\n",
    "\n",
    "list(map(lambda x: x*2,val))\n",
    "\n",
    "reduce(lambda x,y: x * y, val, 1)"
   ]
  },
  {
   "cell_type": "code",
   "execution_count": 29,
   "id": "53c08b8b",
   "metadata": {},
   "outputs": [],
   "source": [
    "#def power(base, exp):\n",
    "#     return base ** exp\n",
    "#cube = partial(power, exp=3)\n",
    "#cube(5)"
   ]
  },
  {
   "cell_type": "markdown",
   "id": "aa695df0",
   "metadata": {},
   "source": [
    "Decorators"
   ]
  },
  {
   "cell_type": "code",
   "execution_count": 34,
   "id": "78811be4",
   "metadata": {},
   "outputs": [],
   "source": [
    "def retry(func):\n",
    "    def retried_function(*args, **kwargs):\n",
    "        exc = None\n",
    "        for _ in range(3):\n",
    "            try:\n",
    "               return func(*args, **kwargs)\n",
    "            except Exception as exc:\n",
    "               print(\"Exception raised while calling %s with args:%s, kwargs: %s. Retrying\" % (func, args, kwargs))\n",
    "        raise exc\n",
    "        return retried_function\n",
    "\n",
    "@retry\n",
    "def do_something_risky():\n",
    "    ...\n",
    "\n",
    "retried_function = retry(do_something_risky)  # No need to use `@`"
   ]
  },
  {
   "cell_type": "code",
   "execution_count": 44,
   "id": "51e7443d",
   "metadata": {},
   "outputs": [
    {
     "name": "stdout",
     "output_type": "stream",
     "text": [
      "['fox', 'boss', 'orange', 'toes', 'fairy', 'cup']\n"
     ]
    }
   ],
   "source": [
    "dictionary = ['fox', 'boss', 'orange', 'toes', 'fairy', 'cup']\n",
    "def puralize(words):\n",
    "    result = []\n",
    "    for word in words:\n",
    "        word = words[i]\n",
    "        if word.endswith('s') or word.endswith('x'):\n",
    "            plural = word + 'es'\n",
    "        if word.endswith('y'):\n",
    "            plural = word[:-1] + 'ies'\n",
    "        else:\n",
    "            plural = +  's'\n",
    "        result.append(plural)\n",
    "    return result\n",
    "\n",
    "def test_pluralize():\n",
    "    result = pluralize(dictionary)\n",
    "    assert result == ['foxes', 'bosses', 'oranges', 'toeses', 'fairies', 'cups']\n",
    "print(dictionary)"
   ]
  },
  {
   "cell_type": "code",
   "execution_count": 14,
   "id": "aac0a695",
   "metadata": {},
   "outputs": [
    {
     "data": {
      "text/plain": [
       "['bar', 'foo', 'bar']"
      ]
     },
     "execution_count": 14,
     "metadata": {},
     "output_type": "execute_result"
    }
   ],
   "source": [
    "def add_bar(items=[]):\n",
    "    items.append('bar')\n",
    "    return items\n",
    "\n",
    "l = add_bar()  \n",
    "l.append('foo')\n",
    "add_bar()"
   ]
  },
  {
   "cell_type": "markdown",
   "id": "bd64230c",
   "metadata": {},
   "source": [
    "Limiting use of classes"
   ]
  },
  {
   "cell_type": "code",
   "execution_count": 45,
   "id": "13dd7361",
   "metadata": {},
   "outputs": [],
   "source": [
    "from collections import namedtuple\n",
    "VerbTenses = namedtuple('VerbTenses', ['past', 'present', 'future'])\n",
    "# versus\n",
    "class VerbTenses(object):\n",
    "    def __init__(self, past, present, future):\n",
    "        self.past = past,\n",
    "        self.present = present\n",
    "        self.future = future"
   ]
  },
  {
   "cell_type": "code",
   "execution_count": 47,
   "id": "27f4ffcf",
   "metadata": {},
   "outputs": [
    {
     "data": {
      "text/plain": [
       "{'abe', 'bertha'}"
      ]
     },
     "execution_count": 47,
     "metadata": {},
     "output_type": "execute_result"
    }
   ],
   "source": [
    "class  Bus(object):\n",
    "    passengers = set()\n",
    "    def add_passenger(self, person):\n",
    "        self.passengers.add(person)\n",
    "\n",
    "bus1 = Bus()\n",
    "bus2 = Bus()\n",
    "bus1.add_passenger('abe')\n",
    "bus2.add_passenger('bertha')\n",
    "bus1.passengers  # returns ['abe', 'bertha']\n",
    "bus2.passengers  # also ['abe', 'bertha']"
   ]
  },
  {
   "cell_type": "code",
   "execution_count": null,
   "id": "c1b83387",
   "metadata": {},
   "outputs": [],
   "source": []
  }
 ],
 "metadata": {
  "kernelspec": {
   "display_name": "Python 3 (ipykernel)",
   "language": "python",
   "name": "python3"
  },
  "language_info": {
   "codemirror_mode": {
    "name": "ipython",
    "version": 3
   },
   "file_extension": ".py",
   "mimetype": "text/x-python",
   "name": "python",
   "nbconvert_exporter": "python",
   "pygments_lexer": "ipython3",
   "version": "3.9.9"
  }
 },
 "nbformat": 4,
 "nbformat_minor": 5
}
