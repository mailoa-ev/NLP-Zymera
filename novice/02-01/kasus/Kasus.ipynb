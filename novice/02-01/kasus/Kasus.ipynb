{
 "cells": [
  {
   "cell_type": "markdown",
   "metadata": {},
   "source": [
    "### Ubah source code dan penjelasan pada artikel untuk JavaScript ini (https://blog.bitsrc.io/understanding-higher-order-functions-in-javascript-75461803bad), diubah menjadi Python\n"
   ]
  },
  {
   "cell_type": "markdown",
   "metadata": {},
   "source": [
    "### First-Class Functions"
   ]
  },
  {
   "cell_type": "code",
   "execution_count": 11,
   "metadata": {},
   "outputs": [],
   "source": [
    "#Javascript\n",
    "#function formalGreeting() {\n",
    "#  console.log(\"How are you?\");\n",
    "#}\n",
    "#function casualGreeting() {\n",
    "#  console.log(\"What's up?\");\n",
    "#}\n",
    "#function greet(type, greetFormal, greetCasual) {\n",
    "#  if(type === 'formal') {\n",
    "#    greetFormal();\n",
    "#  } else if(type === 'casual') {\n",
    "#    greetCasual();\n",
    "#  }\n",
    "#}\n",
    "#// prints 'What's up?'\n",
    "#greet('casual', formalGreeting, casualGreeting);"
   ]
  },
  {
   "cell_type": "code",
   "execution_count": 12,
   "metadata": {},
   "outputs": [],
   "source": [
    "#Python"
   ]
  },
  {
   "cell_type": "markdown",
   "metadata": {},
   "source": [
    "### Higher-Order Functions in Action"
   ]
  },
  {
   "cell_type": "markdown",
   "metadata": {},
   "source": [
    "#### MAP Example 1#"
   ]
  },
  {
   "cell_type": "code",
   "execution_count": 13,
   "metadata": {},
   "outputs": [],
   "source": [
    "# Javascript\n",
    "\n",
    "# Tanpa Higher-order function\n",
    "# const arr1 = [1, 2, 3];\n",
    "# const arr2 = [];\n",
    "# for(let i = 0; i < arr1.length; i++) {\n",
    "#  arr2.push(arr1[i] * 2);\n",
    "# }\n",
    "# // prints [ 2, 4, 6 ]\n",
    "# console.log(arr2);\n",
    "\n",
    "# Dengan Higher-order function (MAP)\n",
    "# const arr1 = [1, 2, 3];\n",
    "# const arr2 = arr1.map(function(item) {\n",
    "#   return item * 2;\n",
    "# });\n",
    "# console.log(arr2);\n",
    "\n",
    "# atau lebih singkat:\n",
    "# const arr1 = [1, 2, 3];\n",
    "# const arr2 = arr1.map(item => item * 2);\n",
    "# console.log(arr2);"
   ]
  },
  {
   "cell_type": "code",
   "execution_count": 14,
   "metadata": {},
   "outputs": [
    {
     "name": "stdout",
     "output_type": "stream",
     "text": [
      "[2, 4, 6]\n"
     ]
    }
   ],
   "source": [
    "# Python\n",
    "\n",
    "arr1 = [1, 2, 3]\n",
    "arr2 = map(lambda a:a*2,arr1)\n",
    "print(list(arr2))\n"
   ]
  },
  {
   "cell_type": "markdown",
   "metadata": {},
   "source": [
    "#### MAP Example 2#"
   ]
  },
  {
   "cell_type": "code",
   "execution_count": 15,
   "metadata": {},
   "outputs": [],
   "source": [
    "# Javascript\n",
    "\n",
    "# Tanpa Higher-order function\n",
    "# const birthYear = [1975, 1997, 2002, 1995, 1985];\n",
    "# const ages = [];\n",
    "# for(let i = 0; i < birthYear.length; i++) {\n",
    "#  let age = 2018 - birthYear[i];\n",
    "#  ages.push(age);\n",
    "# }\n",
    "# // prints [ 43, 21, 16, 23, 33 ]\n",
    "# console.log(ages);\n",
    "\n",
    "# Dengan Higher-order function (MAP)\n",
    "# const birthYear = [1975, 1997, 2002, 1995, 1985];\n",
    "# const ages = birthYear.map(year => 2018 - year);\n",
    "# // prints [ 43, 21, 16, 23, 33 ]\n",
    "# console.log(ages);"
   ]
  },
  {
   "cell_type": "code",
   "execution_count": 16,
   "metadata": {},
   "outputs": [
    {
     "name": "stdout",
     "output_type": "stream",
     "text": [
      "[46, 24, 19, 26, 36]\n"
     ]
    }
   ],
   "source": [
    "# Python\n",
    "\n",
    "birthYear = [1975, 1997, 2002, 1995, 1985]\n",
    "umur = map(lambda u:2021 - u, birthYear)\n",
    "print(list(umur))"
   ]
  },
  {
   "cell_type": "markdown",
   "metadata": {},
   "source": [
    "#### Filter Example 1#"
   ]
  },
  {
   "cell_type": "code",
   "execution_count": null,
   "metadata": {},
   "outputs": [],
   "source": [
    "# Javascript\n",
    "\n",
    "# Tanpa Higher-order function\n",
    "# const persons = [\n",
    "#  { name: 'Peter', age: 16 },\n",
    "#  { name: 'Mark', age: 18 },\n",
    "#  { name: 'John', age: 27 },\n",
    "#  { name: 'Jane', age: 14 },\n",
    "#  { name: 'Tony', age: 24},\n",
    "# ];\n",
    "# const fullAge = [];\n",
    "# for(let i = 0; i < persons.length; i++) {\n",
    "#  if(persons[i].age >= 18) {\n",
    "#    fullAge.push(persons[i]);\n",
    "#  }\n",
    "# }\n",
    "# console.log(fullAge);\n",
    "\n",
    "# Dengan Higher-order function (FILTER)\n",
    "# const persons = [\n",
    "#   { name: 'Peter', age: 16 },\n",
    "#   { name: 'Mark', age: 18 },\n",
    "#   { name: 'John', age: 27 },\n",
    "#   { name: 'Jane', age: 14 },\n",
    "#   { name: 'Tony', age: 24},\n",
    "# ];\n",
    "# const fullAge = persons.filter(person => person.age >= 18);\n",
    "# console.log(fullAge);"
   ]
  },
  {
   "cell_type": "code",
   "execution_count": 22,
   "metadata": {},
   "outputs": [
    {
     "name": "stdout",
     "output_type": "stream",
     "text": [
      "[{'name': 'Mark', 'age': 18}, {'name': 'John', 'age': 27}, {'name': 'Tony', 'age': 24}]\n"
     ]
    }
   ],
   "source": [
    "# Python\n",
    "\n",
    "persons = [\n",
    "  { \"name\": 'Peter', \"age\": 16 },\n",
    "  { \"name\": 'Mark', \"age\": 18 },\n",
    "  { \"name\": 'John', \"age\": 27 },\n",
    "  { \"name\": 'Jane', \"age\": 14 },\n",
    "  { \"name\": 'Tony', \"age\": 24},\n",
    "]\n",
    "\n",
    "fullAge = filter(lambda umur: umur['age'] >= 18, persons)\n",
    "print(list(fullAge))"
   ]
  },
  {
   "cell_type": "markdown",
   "metadata": {},
   "source": [
    "#### Reduce Example 1#"
   ]
  },
  {
   "cell_type": "code",
   "execution_count": 22,
   "metadata": {},
   "outputs": [],
   "source": [
    "# Javascript\n",
    "\n",
    "# Tanpa Higher-order function\n",
    "# const arr = [5, 7, 1, 8, 4];\n",
    "# let sum = 0;\n",
    "# for(let i = 0; i < arr.length; i++) {\n",
    "#  sum = sum + arr[i];\n",
    "# }\n",
    "# // prints 25\n",
    "# console.log(sum);\n",
    "\n",
    "# Dengan Higher-order function (REDUCE)\n",
    "# const arr = [5, 7, 1, 8, 4];\n",
    "# const sum = arr.reduce(function(accumulator, currentValue) {\n",
    "#   return accumulator + currentValue;\n",
    "# });\n",
    "# // prints 25\n",
    "# console.log(sum);"
   ]
  },
  {
   "cell_type": "code",
   "execution_count": 23,
   "metadata": {},
   "outputs": [
    {
     "name": "stdout",
     "output_type": "stream",
     "text": [
      "25\n"
     ]
    }
   ],
   "source": [
    "# Python\n",
    "\n",
    "from functools import reduce\n",
    "arr = [5, 7, 1, 8, 4]\n",
    "\n",
    "sum = reduce(lambda accumulator, currentValue: accumulator + currentValue,arr)\n",
    "print(sum)\n"
   ]
  }
 ],
 "metadata": {
  "interpreter": {
   "hash": "6c592c5439a4cb108584708d37b005c00d194dc00d72dd9db967113376513b10"
  },
  "kernelspec": {
   "display_name": "Python 3.9.7 64-bit ('NLP-py39': conda)",
   "language": "python",
   "name": "python3"
  },
  "language_info": {
   "codemirror_mode": {
    "name": "ipython",
    "version": 3
   },
   "file_extension": ".py",
   "mimetype": "text/x-python",
   "name": "python",
   "nbconvert_exporter": "python",
   "pygments_lexer": "ipython3",
   "version": "3.9.9"
  },
  "orig_nbformat": 4
 },
 "nbformat": 4,
 "nbformat_minor": 2
}
