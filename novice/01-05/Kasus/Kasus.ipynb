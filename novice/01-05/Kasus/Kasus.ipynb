{
 "cells": [
  {
   "cell_type": "raw",
   "id": "391c2959",
   "metadata": {},
   "source": [
    "CSV"
   ]
  },
  {
   "cell_type": "code",
   "execution_count": 41,
   "id": "19a2b7ff",
   "metadata": {},
   "outputs": [
    {
     "name": "stdout",
     "output_type": "stream",
     "text": [
      "['Team;Captain']\n",
      "['Inter Milan;Handanovic']\n",
      "['Chelsea FC;Azpilicueta']\n",
      "['Juventus;Chiellini']\n",
      "['Barcelona;Busquets']\n",
      "['Tottenham Hotspurs;Lloris']\n",
      "['Real Madrid;Benzema']\n",
      "['Manchester City;Fernandinho']\n",
      "Lama eksekusi data: 0.001996278762817383\n"
     ]
    }
   ],
   "source": [
    "# Reading CSV content from a file\n",
    "import csv\n",
    "import time\n",
    "\n",
    "start_time = time.time()\n",
    "with open('./data/file.csv', newline='') as f:\n",
    "    reader = csv.reader(f)\n",
    "    for row in reader:\n",
    "        print(row)\n",
    "end_time = time.time()\n",
    "print(\"Lama eksekusi data:\", end_time - start_time)"
   ]
  },
  {
   "cell_type": "raw",
   "id": "faa6fb36",
   "metadata": {},
   "source": [
    "XML"
   ]
  },
  {
   "cell_type": "code",
   "execution_count": 42,
   "id": "a585f39e",
   "metadata": {},
   "outputs": [
    {
     "name": "stdout",
     "output_type": "stream",
     "text": [
      "row {'Team': 'Inter Milan', 'Captain': 'Handanovic'}\n",
      "row {'Team': 'Chelsea FC', 'Captain': 'Azpilicueta'}\n",
      "row {'Team': 'Juventus', 'Captain': 'Chiellini'}\n",
      "row {'Team': 'Barcelona', 'Captain': 'Busquets'}\n",
      "row {'Team': 'Tottenham Hotspurs', 'Captain': 'Lloris'}\n",
      "row {'Team': 'Real Madrid', 'Captain': 'Benzema'}\n",
      "row {'Team': 'Manchester City', 'Captain': 'Fernandinho'}\n",
      "Lama eksekusi data: 0.0029897689819335938\n"
     ]
    }
   ],
   "source": [
    "import xml.etree.ElementTree as ET\n",
    "import time\n",
    "\n",
    "start_time = time.time()\n",
    "tree = ET.parse('./data/file.xml')\n",
    "root = tree.getroot()\n",
    "\n",
    "for child in root:\n",
    "    print(child.tag, child.attrib)\n",
    "end_time = time.time()\n",
    "print(\"Lama eksekusi data:\", end_time - start_time)\n"
   ]
  },
  {
   "cell_type": "raw",
   "id": "820eedbe",
   "metadata": {},
   "source": [
    "JSON"
   ]
  },
  {
   "cell_type": "code",
   "execution_count": 43,
   "id": "3dd19dad",
   "metadata": {},
   "outputs": [
    {
     "name": "stdout",
     "output_type": "stream",
     "text": [
      "[{'Team': 'Inter Milan', 'Captain': 'Handanovic'}, {'Team': 'Chelsea FC', 'Captain': 'Azpilicueta'}, {'Team': 'Juventus', 'Captain': 'Chiellini'}, {'Team': 'Barcelona', 'Captain': 'Busquets'}, {'Team': 'Tottenham Hotspurs', 'Captain': 'Lloris'}, {'Team': 'Real Madrid', 'Captain': 'Benzema'}, {'Team': 'Manchester City', 'Captain': 'Fernandinho'}]\n",
      "Lama eksekusi data: 0.0009596347808837891\n"
     ]
    }
   ],
   "source": [
    "import json\n",
    "import time\n",
    "\n",
    "start_time = time.time()\n",
    "with open('./data/file.json', 'r') as f:\n",
    "    data = json.load(f)\n",
    "print(data)\n",
    "end_time = time.time()\n",
    "print(\"Lama eksekusi data:\", end_time - start_time)"
   ]
  },
  {
   "cell_type": "raw",
   "id": "0acd7750",
   "metadata": {},
   "source": [
    "File JSON sangat cepat untuk dieksekusi."
   ]
  }
 ],
 "metadata": {
  "kernelspec": {
   "display_name": "Python 3 (ipykernel)",
   "language": "python",
   "name": "python3"
  },
  "language_info": {
   "codemirror_mode": {
    "name": "ipython",
    "version": 3
   },
   "file_extension": ".py",
   "mimetype": "text/x-python",
   "name": "python",
   "nbconvert_exporter": "python",
   "pygments_lexer": "ipython3",
   "version": "3.9.5"
  }
 },
 "nbformat": 4,
 "nbformat_minor": 5
}
