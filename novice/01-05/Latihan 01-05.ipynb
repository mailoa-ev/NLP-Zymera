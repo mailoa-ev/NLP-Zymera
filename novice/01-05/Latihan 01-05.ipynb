{
 "cells": [
  {
   "cell_type": "markdown",
   "id": "4557ea57",
   "metadata": {},
   "source": [
    "# pickle — Python object serialization"
   ]
  },
  {
   "cell_type": "markdown",
   "id": "6ed64998",
   "metadata": {},
   "source": [
    "#### Sumber belajar: https://www.geeksforgeeks.org/pickle-python-object-serialization/"
   ]
  },
  {
   "cell_type": "code",
   "execution_count": 2,
   "id": "88de69c1",
   "metadata": {},
   "outputs": [
    {
     "name": "stdout",
     "output_type": "stream",
     "text": [
      "PICKLE: b'\\x80\\x04\\x95#\\x00\\x00\\x00\\x00\\x00\\x00\\x00]\\x94}\\x94(\\x8c\\x01a\\x94\\x8c\\x01A\\x94\\x8c\\x01b\\x94K\\x02\\x8c\\x01c\\x94G@\\x08\\x00\\x00\\x00\\x00\\x00\\x00ua.'\n"
     ]
    }
   ],
   "source": [
    "# Python program to illustrate\n",
    "#Picle.dumps()\n",
    "import pickle\n",
    "\n",
    "data = [ { 'a':'A', 'b':2, 'c':3.0 } ]\n",
    "data_string = pickle.dumps(data)\n",
    "print ('PICKLE:', data_string )\n"
   ]
  },
  {
   "cell_type": "code",
   "execution_count": 12,
   "id": "17752bb0",
   "metadata": {},
   "outputs": [
    {
     "name": "stdout",
     "output_type": "stream",
     "text": [
      "WRITING: pickle (elkcip)\n",
      "WRITING: cPickle (elkciPc)\n",
      "WRITING: last (tsal)\n",
      "READ: pickle (elkcip)\n",
      "READ: cPickle (elkciPc)\n",
      "READ: last (tsal)\n"
     ]
    }
   ],
   "source": [
    "# Python program to illustrate\n",
    "# pickle.load()\n",
    "import pickle\n",
    "import io\n",
    "\n",
    "class SimpleObject(object):\n",
    "\n",
    "    def __init__(self, name):\n",
    "        self.name = name\n",
    "        l = list(name)\n",
    "        l.reverse()\n",
    "        self.name_backwards = ''.join(l)\n",
    "        return\n",
    "\n",
    "data = []\n",
    "data.append(SimpleObject('pickle'))\n",
    "data.append(SimpleObject('cPickle'))\n",
    "data.append(SimpleObject('last'))\n",
    "\n",
    "# Simulate a file with StringIO\n",
    "#out_s = io.StringIO()  --> ganti String dengan Bytes\n",
    "out_s = io.BytesIO()\n",
    "\n",
    "\n",
    "# Write to the stream\n",
    "for o in data:\n",
    "    print ('WRITING: %s (%s)' % (o.name, o.name_backwards))\n",
    "    pickle.dump(o, out_s)\n",
    "    out_s.flush()\n",
    "    \n",
    "# Set up a read-able stream\n",
    "#in_s = io.StringIO(out_s.getvalue())  --> ganti String dengan Bytes\n",
    "in_s = io.BytesIO(out_s.getvalue())\n",
    "\n",
    "# Read the data\n",
    "while True:\n",
    "    try:\n",
    "        o = pickle.load(in_s)\n",
    "    except EOFError:\n",
    "        break\n",
    "    else:\n",
    "        print ('READ: %s (%s)' % (o.name, o.name_backwards))"
   ]
  },
  {
   "cell_type": "code",
   "execution_count": 3,
   "id": "a7b10412",
   "metadata": {},
   "outputs": [
    {
     "name": "stdout",
     "output_type": "stream",
     "text": [
      "BEFORE:\n",
      "[{'a': 'A', 'b': 2, 'c': 3.0}]\n",
      "AFTER:\n",
      "[{'a': 'A', 'b': 2, 'c': 3.0}]\n",
      "SAME?: False\n",
      "EQUAL?: True\n"
     ]
    }
   ],
   "source": [
    "# Python program to illustrate\n",
    "# pickle.loads()\n",
    "import pickle\n",
    "import pprint\n",
    "\n",
    "data1 = [ { 'a':'A', 'b':2, 'c':3.0 } ]\n",
    "print ('BEFORE:',)\n",
    "pprint.pprint(data1)\n",
    "\n",
    "data1_string = pickle.dumps(data1)\n",
    "\n",
    "data2 = pickle.loads(data1_string)\n",
    "print ('AFTER:',)\n",
    "pprint.pprint(data2)\n",
    "\n",
    "print ('SAME?:', (data1 is data2))\n",
    "print ('EQUAL?:', (data1 == data2))\n"
   ]
  },
  {
   "cell_type": "code",
   "execution_count": 8,
   "id": "a798ddcf",
   "metadata": {},
   "outputs": [
    {
     "name": "stdout",
     "output_type": "stream",
     "text": [
      "0: Ini baris pertama\n",
      "0: Ini baris kedua isinya Evangs Mailoa\n",
      "0: Ini baris pertama\n"
     ]
    }
   ],
   "source": [
    "import pickle\n",
    "\n",
    "class TextReader:\n",
    "    \"\"\"Print and number lines in a text file.\"\"\"\n",
    "\n",
    "    def __init__(self, filename):\n",
    "        self.filename = filename\n",
    "        self.file = open(filename)\n",
    "        self.lineno = 0\n",
    "\n",
    "    def readline(self):\n",
    "        self.lineno + 1\n",
    "        line = self.file.readline()\n",
    "        if not line:\n",
    "            return None\n",
    "        if line.endswith('\\n'):\n",
    "            line = line[:-1]\n",
    "        return \"%i: %s\" % (self.lineno, line)\n",
    "\n",
    "    def __getstate__(self):\n",
    "        # Copy the object's state from self.__dict__ which contains\n",
    "        # all our instance attributes. Always use the dict.copy()\n",
    "        # method to avoid modifying the original state.\n",
    "        state = self.__dict__.copy()\n",
    "        # Remove the unpicklable entries.\n",
    "        del state['file']\n",
    "        return state\n",
    "\n",
    "    def __setstate__(self, state):\n",
    "        # Restore instance attributes (i.e., filename and lineno).\n",
    "        self.__dict__.update(state)\n",
    "        # Restore the previously opened file's state. To do so, we need to\n",
    "        # reopen it and read from it until the line count is restored.\n",
    "        file = open(self.filename)\n",
    "        for _ in range(self.lineno):\n",
    "            file.readline()\n",
    "        # Finally, save the file.\n",
    "        self.file = file\n",
    "\n",
    "reader = TextReader(\"Geeksforgeeks.txt\")\n",
    "print(reader.readline())\n",
    "print(reader.readline())\n",
    "new_reader = pickle.loads(pickle.dumps(reader))\n",
    "print(new_reader.readline())\n"
   ]
  },
  {
   "cell_type": "markdown",
   "id": "52f73aa2",
   "metadata": {},
   "source": [
    "# Object serialization in Python"
   ]
  },
  {
   "cell_type": "markdown",
   "id": "3783ca59",
   "metadata": {},
   "source": [
    "#### Sumber bacaan: https://medium.com/the-python-corner/object-serialization-in-python-1d49c6ad071 "
   ]
  },
  {
   "cell_type": "code",
   "execution_count": 6,
   "id": "24fd9a66",
   "metadata": {},
   "outputs": [
    {
     "name": "stdout",
     "output_type": "stream",
     "text": [
      "My sheep mary is white and has 4 paws\n",
      "Would you like to see her pickled? Here she is!\n",
      "b'\\x80\\x04\\x95A\\x00\\x00\\x00\\x00\\x00\\x00\\x00\\x8c\\x08__main__\\x94\\x8c\\x05Sheep\\x94\\x93\\x94)\\x81\\x94}\\x94(\\x8c\\x0enumber_of_paws\\x94K\\x04\\x8c\\x05color\\x94\\x8c\\x05white\\x94ub.'\n"
     ]
    }
   ],
   "source": [
    " import pickle\n",
    " \n",
    " class Animal:\n",
    "    def __init__(self, number_of_paws, color):\n",
    "        self.number_of_paws = number_of_paws\n",
    "        self.color = color\n",
    " \n",
    " class Sheep(Animal):\n",
    "    def __init__(self, color):\n",
    "        Animal.__init__(self, 4, color)\n",
    "\n",
    "mary = Sheep(\"white\")\n",
    "\n",
    "print (str.format(\"My sheep mary is {0} and has {1} paws\", mary.color, mary.number_of_paws))\n",
    "my_pickled_mary = pickle.dumps(mary)\n",
    "\n",
    "print (\"Would you like to see her pickled? Here she is!\")\n",
    "print (my_pickled_mary)\n"
   ]
  },
  {
   "cell_type": "code",
   "execution_count": 7,
   "id": "3d8b32e4",
   "metadata": {},
   "outputs": [
    {
     "name": "stdout",
     "output_type": "stream",
     "text": [
      "My sheep mary is white and has 4 paws\n"
     ]
    }
   ],
   "source": [
    " import pickle\n",
    " \n",
    " class Animal:\n",
    "    def __init__(self, number_of_paws, color):\n",
    "        self.number_of_paws = number_of_paws\n",
    "        self.color = color\n",
    " \n",
    " class Sheep(Animal):\n",
    "    def __init__(self, color):\n",
    "        Animal.__init__(self, 4, color)\n",
    "\n",
    "mary = Sheep(\"white\")\n",
    "\n",
    "print (str.format(\"My sheep mary is {0} and has {1} paws\", mary.color, mary.number_of_paws))\n",
    "my_pickled_mary = pickle.dumps(mary)\n",
    "\n",
    "binary_file = open('my_pickled_mary.bin', mode='wb')\n",
    "my_pickled_mary = pickle.dump(mary, binary_file)\n",
    "binary_file.close()\n"
   ]
  },
  {
   "cell_type": "code",
   "execution_count": 8,
   "id": "db13178c",
   "metadata": {},
   "outputs": [
    {
     "name": "stdout",
     "output_type": "stream",
     "text": [
      "Dolly is black \n",
      "Mary is white \n"
     ]
    }
   ],
   "source": [
    " import pickle\n",
    " \n",
    " class Animal:\n",
    "    def __init__(self, number_of_paws, color):\n",
    "        self.number_of_paws = number_of_paws\n",
    "        self.color = color\n",
    " \n",
    " class Sheep(Animal):\n",
    "    def __init__(self, color):\n",
    "        Animal.__init__(self, 4, color)\n",
    "\n",
    "# Step 1: Let's create the sheep Mary\n",
    "mary = Sheep(\"white\")\n",
    "\n",
    "# Step 2: Let's pickle Mary\n",
    "my_pickled_mary = pickle.dumps(mary)\n",
    "\n",
    "# Step 3: Now, let's unpickle our sheep Mary creating another instance, another sheep... Dolly!\n",
    "dolly = pickle.loads(my_pickled_mary)\n",
    "\n",
    "# Dolly and Mary are two different objects, in fact if we specify another color for dolly\n",
    "# there are no conseguencies for Mary\n",
    "dolly.color = \"black\"\n",
    "\n",
    "print (str.format(\"Dolly is {0} \", dolly.color))\n",
    "print (str.format(\"Mary is {0} \", mary.color))"
   ]
  },
  {
   "cell_type": "code",
   "execution_count": 10,
   "id": "635c40f6",
   "metadata": {},
   "outputs": [
    {
     "name": "stdout",
     "output_type": "stream",
     "text": [
      "I'm Dave, and I've meditated 100 times'\n",
      "I'm Dave, and I don't have a beginner mind yet because I've meditated only 0 times'\n"
     ]
    }
   ],
   "source": [
    " import pickle\n",
    " \n",
    " class my_zen_class:\n",
    "    number_of_meditations = 0\n",
    " \n",
    "    def __init__(self, name):\n",
    "         self.number_of_meditations = 0\n",
    "         self.name = name\n",
    " \n",
    "    def meditate(self):\n",
    "        self.number_of_meditations = self.number_of_meditations + 1\n",
    "\n",
    "    def __getstate__(self):\n",
    "       # this method is called when you are \n",
    "       # going to pickle the class, to know what to pickle\n",
    "\n",
    "        state = self.__dict__.copy()\n",
    "\n",
    "        # You will never get the Buddha state if you count \n",
    "        # meditations, so \n",
    "        # don't pickle this counter, the next time you will just \n",
    "        # start meditating from scratch :)\n",
    "        del state['number_of_meditations']\n",
    "\n",
    "        return state\n",
    "\n",
    "    def __setstate__(self, state):\n",
    "       # this method is called when you are going to \n",
    "       # unpickle the class,\n",
    "       # if you need some initialization after the \n",
    "       # unpickling you can do it here.\n",
    "\n",
    "        self.__dict__.update(state)\n",
    "\n",
    "# I start meditating\n",
    "my_zen_object = my_zen_class(\"Dave\")\n",
    "for i in range(100):\n",
    "      my_zen_object.meditate()\n",
    "\n",
    "# Now I pickle my meditation experience\n",
    "print(str.format(\"I'm {0}, and I've meditated {1} times'\", my_zen_object.name, my_zen_object.number_of_meditations))\n",
    "my_pickled_zen_object = pickle.dumps(my_zen_object)\n",
    "my_zen_object = None\n",
    "\n",
    "# Now I get my meditation experience back\n",
    "my_new_zen_object = pickle.loads(my_pickled_zen_object)\n",
    "\n",
    "# As expected, the number_of_meditations property \n",
    "# has not been restored because it hasn't been pickled\n",
    "print(str.format(\"I'm {0}, and I don't have a beginner mind yet because I've meditated only {1} times'\", my_new_zen_object.name, my_new_zen_object.number_of_meditations))\n"
   ]
  },
  {
   "cell_type": "markdown",
   "id": "b1282dfc",
   "metadata": {},
   "source": [
    "# pickle — Python object serialization"
   ]
  },
  {
   "cell_type": "markdown",
   "id": "3728ad1a",
   "metadata": {},
   "source": [
    "#### Sumber bacaan: https://docs.python.org/3/library/pickle.html "
   ]
  },
  {
   "cell_type": "code",
   "execution_count": 11,
   "id": "a70121dc",
   "metadata": {},
   "outputs": [],
   "source": [
    "class Foo:\n",
    "    attr = 'A class attribute'\n",
    "\n",
    "picklestring = pickle.dumps(Foo)"
   ]
  },
  {
   "cell_type": "code",
   "execution_count": 12,
   "id": "3ef6b0b5",
   "metadata": {},
   "outputs": [],
   "source": [
    "def save(obj):\n",
    "    return (obj.__class__, obj.__dict__)\n",
    "\n",
    "def load(cls, attributes):\n",
    "    obj = cls.__new__(cls)\n",
    "    obj.__dict__.update(attributes)\n",
    "    return obj"
   ]
  },
  {
   "cell_type": "code",
   "execution_count": 13,
   "id": "8ec71951",
   "metadata": {},
   "outputs": [
    {
     "name": "stdout",
     "output_type": "stream",
     "text": [
      "Pickled records:\n",
      "[MemoRecord(key=1, task='give food to fish'),\n",
      " MemoRecord(key=2, task='prepare group meeting'),\n",
      " MemoRecord(key=3, task='fight with a zebra')]\n",
      "Unpickled records:\n",
      "[MemoRecord(key=1, task='learn italian'),\n",
      " MemoRecord(key=2, task='prepare group meeting'),\n",
      " MemoRecord(key=3, task='fight with a zebra')]\n"
     ]
    }
   ],
   "source": [
    "# Simple example presenting how persistent ID can be used to pickle\n",
    "# external objects by reference.\n",
    "\n",
    "import pickle\n",
    "import sqlite3\n",
    "from collections import namedtuple\n",
    "\n",
    "# Simple class representing a record in our database.\n",
    "MemoRecord = namedtuple(\"MemoRecord\", \"key, task\")\n",
    "\n",
    "class DBPickler(pickle.Pickler):\n",
    "\n",
    "    def persistent_id(self, obj):\n",
    "        # Instead of pickling MemoRecord as a regular class instance, we emit a\n",
    "        # persistent ID.\n",
    "        if isinstance(obj, MemoRecord):\n",
    "            # Here, our persistent ID is simply a tuple, containing a tag and a\n",
    "            # key, which refers to a specific record in the database.\n",
    "            return (\"MemoRecord\", obj.key)\n",
    "        else:\n",
    "            # If obj does not have a persistent ID, return None. This means obj\n",
    "            # needs to be pickled as usual.\n",
    "            return None\n",
    "\n",
    "\n",
    "class DBUnpickler(pickle.Unpickler):\n",
    "\n",
    "    def __init__(self, file, connection):\n",
    "        super().__init__(file)\n",
    "        self.connection = connection\n",
    "\n",
    "    def persistent_load(self, pid):\n",
    "        # This method is invoked whenever a persistent ID is encountered.\n",
    "        # Here, pid is the tuple returned by DBPickler.\n",
    "        cursor = self.connection.cursor()\n",
    "        type_tag, key_id = pid\n",
    "        if type_tag == \"MemoRecord\":\n",
    "            # Fetch the referenced record from the database and return it.\n",
    "            cursor.execute(\"SELECT * FROM memos WHERE key=?\", (str(key_id),))\n",
    "            key, task = cursor.fetchone()\n",
    "            return MemoRecord(key, task)\n",
    "        else:\n",
    "            # Always raises an error if you cannot return the correct object.\n",
    "            # Otherwise, the unpickler will think None is the object referenced\n",
    "            # by the persistent ID.\n",
    "            raise pickle.UnpicklingError(\"unsupported persistent object\")\n",
    "\n",
    "\n",
    "def main():\n",
    "    import io\n",
    "    import pprint\n",
    "\n",
    "    # Initialize and populate our database.\n",
    "    conn = sqlite3.connect(\":memory:\")\n",
    "    cursor = conn.cursor()\n",
    "    cursor.execute(\"CREATE TABLE memos(key INTEGER PRIMARY KEY, task TEXT)\")\n",
    "    tasks = (\n",
    "        'give food to fish',\n",
    "        'prepare group meeting',\n",
    "        'fight with a zebra',\n",
    "        )\n",
    "    for task in tasks:\n",
    "        cursor.execute(\"INSERT INTO memos VALUES(NULL, ?)\", (task,))\n",
    "\n",
    "    # Fetch the records to be pickled.\n",
    "    cursor.execute(\"SELECT * FROM memos\")\n",
    "    memos = [MemoRecord(key, task) for key, task in cursor]\n",
    "    # Save the records using our custom DBPickler.\n",
    "    file = io.BytesIO()\n",
    "    DBPickler(file).dump(memos)\n",
    "\n",
    "    print(\"Pickled records:\")\n",
    "    pprint.pprint(memos)\n",
    "\n",
    "    # Update a record, just for good measure.\n",
    "    cursor.execute(\"UPDATE memos SET task='learn italian' WHERE key=1\")\n",
    "\n",
    "    # Load the records from the pickle data stream.\n",
    "    file.seek(0)\n",
    "    memos = DBUnpickler(file, conn).load()\n",
    "\n",
    "    print(\"Unpickled records:\")\n",
    "    pprint.pprint(memos)\n",
    "\n",
    "\n",
    "if __name__ == '__main__':\n",
    "    main()"
   ]
  },
  {
   "cell_type": "raw",
   "id": "0b1e9227",
   "metadata": {},
   "source": [
    "Handling Stateful Objects"
   ]
  },
  {
   "cell_type": "code",
   "execution_count": 16,
   "id": "a5d2771e",
   "metadata": {},
   "outputs": [],
   "source": [
    "class TextReader:\n",
    "    \"\"\"Print and number lines in a text file.\"\"\"\n",
    "\n",
    "    def __init__(self, filename):\n",
    "        self.filename = filename\n",
    "        self.file = open(filename)\n",
    "        self.lineno = 0\n",
    "\n",
    "    def readline(self):\n",
    "        self.lineno += 1\n",
    "        line = self.file.readline()\n",
    "        if not line:\n",
    "            return None\n",
    "        if line.endswith('\\n'):\n",
    "            line = line[:-1]\n",
    "        return \"%i: %s\" % (self.lineno, line)\n",
    "\n",
    "    def __getstate__(self):\n",
    "        # Copy the object's state from self.__dict__ which contains\n",
    "        # all our instance attributes. Always use the dict.copy()\n",
    "        # method to avoid modifying the original state.\n",
    "        state = self.__dict__.copy()\n",
    "        # Remove the unpicklable entries.\n",
    "        del state['file']\n",
    "        return state\n",
    "\n",
    "    def __setstate__(self, state):\n",
    "        # Restore instance attributes (i.e., filename and lineno).\n",
    "        self.__dict__.update(state)\n",
    "        # Restore the previously opened file's state. To do so, we need to\n",
    "        # reopen it and read from it until the line count is restored.\n",
    "        file = open(self.filename)\n",
    "        for _ in range(self.lineno):\n",
    "            file.readline()\n",
    "        # Finally, save the file.\n",
    "        self.file = file"
   ]
  },
  {
   "cell_type": "code",
   "execution_count": 17,
   "id": "d9d3f2cc",
   "metadata": {},
   "outputs": [
    {
     "data": {
      "text/plain": [
       "'1: Baris pertama'"
      ]
     },
     "execution_count": 17,
     "metadata": {},
     "output_type": "execute_result"
    }
   ],
   "source": [
    "reader = TextReader(\"hello.txt\")\n",
    "reader.readline()"
   ]
  },
  {
   "cell_type": "code",
   "execution_count": 18,
   "id": "d0e6d032",
   "metadata": {},
   "outputs": [
    {
     "data": {
      "text/plain": [
       "'2: Baris kedua  EVANGS MAILOA'"
      ]
     },
     "execution_count": 18,
     "metadata": {},
     "output_type": "execute_result"
    }
   ],
   "source": [
    "reader.readline()"
   ]
  },
  {
   "cell_type": "code",
   "execution_count": 23,
   "id": "3dda2f3c",
   "metadata": {},
   "outputs": [],
   "source": [
    "import builtins\n",
    "import io\n",
    "import pickle\n",
    "\n",
    "safe_builtins = {\n",
    "    'range',\n",
    "    'complex',\n",
    "    'set',\n",
    "    'frozenset',\n",
    "    'slice',\n",
    "}\n",
    "\n",
    "class RestrictedUnpickler(pickle.Unpickler):\n",
    "\n",
    "    def find_class(self, module, name):\n",
    "        # Only allow safe classes from builtins.\n",
    "        if module == \"builtins\" and name in safe_builtins:\n",
    "            return getattr(builtins, name)\n",
    "        # Forbid everything else.\n",
    "        raise pickle.UnpicklingError(\"global '%s.%s' is forbidden\" %\n",
    "                                     (module, name))\n",
    "\n",
    "def restricted_loads(s):\n",
    "    \"\"\"Helper function analogous to pickle.loads().\"\"\"\n",
    "    return RestrictedUnpickler(io.BytesIO(s)).load()"
   ]
  },
  {
   "cell_type": "code",
   "execution_count": 24,
   "id": "d1ed4873",
   "metadata": {},
   "outputs": [
    {
     "data": {
      "text/plain": [
       "[1, 2, range(0, 15)]"
      ]
     },
     "execution_count": 24,
     "metadata": {},
     "output_type": "execute_result"
    }
   ],
   "source": [
    "restricted_loads(pickle.dumps([1, 2, range(15)]))\n",
    "[1, 2, range(0, 15)]"
   ]
  },
  {
   "cell_type": "code",
   "execution_count": 25,
   "id": "1c7c228c",
   "metadata": {},
   "outputs": [],
   "source": [
    "import pickle\n",
    "\n",
    "# An arbitrary collection of objects supported by pickle.\n",
    "data = {\n",
    "    'a': [1, 2.0, 3, 4+6j],\n",
    "    'b': (\"character string\", b\"byte string\"),\n",
    "    'c': {None, True, False}\n",
    "}\n",
    "\n",
    "with open('data.pickle', 'wb') as f:\n",
    "    # Pickle the 'data' dictionary using the highest protocol available.\n",
    "    pickle.dump(data, f, pickle.HIGHEST_PROTOCOL)"
   ]
  },
  {
   "cell_type": "code",
   "execution_count": 26,
   "id": "aa4254f4",
   "metadata": {},
   "outputs": [],
   "source": [
    "import pickle\n",
    "\n",
    "with open('data.pickle', 'rb') as f:\n",
    "    # The protocol version used is detected automatically, so we do not\n",
    "    # have to specify it.\n",
    "    data = pickle.load(f)"
   ]
  },
  {
   "cell_type": "code",
   "execution_count": 27,
   "id": "1a19fdf8",
   "metadata": {},
   "outputs": [
    {
     "name": "stdout",
     "output_type": "stream",
     "text": [
      "{'a': [1, 2.0, 3, (4+6j)], 'b': ('character string', b'byte string'), 'c': {False, True, None}}\n"
     ]
    }
   ],
   "source": [
    "print(data)"
   ]
  },
  {
   "cell_type": "markdown",
   "id": "f1479758",
   "metadata": {},
   "source": [
    "# Serialization"
   ]
  },
  {
   "cell_type": "markdown",
   "id": "de16ece8",
   "metadata": {},
   "source": [
    "#### Sumber bacaan: https://www.learnpython.org/en/Serialization"
   ]
  },
  {
   "cell_type": "code",
   "execution_count": 29,
   "id": "0707b129",
   "metadata": {},
   "outputs": [
    {
     "name": "stdout",
     "output_type": "stream",
     "text": [
      "[1, 2, 3, \"a\", \"b\", \"c\"]\n"
     ]
    }
   ],
   "source": [
    "import json\n",
    "json_string = json.dumps([1, 2, 3, \"a\", \"b\", \"c\"])\n",
    "print(json_string)"
   ]
  },
  {
   "cell_type": "code",
   "execution_count": 30,
   "id": "62c06dde",
   "metadata": {},
   "outputs": [
    {
     "name": "stdout",
     "output_type": "stream",
     "text": [
      "[1, 2, 3, 'a', 'b', 'c']\n"
     ]
    }
   ],
   "source": [
    "import pickle\n",
    "pickled_string = pickle.dumps([1, 2, 3, \"a\", \"b\", \"c\"])\n",
    "print(pickle.loads(pickled_string))"
   ]
  },
  {
   "cell_type": "code",
   "execution_count": 32,
   "id": "98c99aff",
   "metadata": {},
   "outputs": [
    {
     "name": "stdout",
     "output_type": "stream",
     "text": [
      "300\n",
      "400\n"
     ]
    }
   ],
   "source": [
    "import json\n",
    "\n",
    "# fix this function, so it adds the given name\n",
    "# and salary pair to salaries_json, and return it\n",
    "def add_employee(salaries_json, name, salary):\n",
    "    # Add your code here\n",
    "\n",
    "    return salaries_json\n",
    "\n",
    "# test code\n",
    "salaries = '{\"Alfred\" : 300, \"Jane\" : 400 }'\n",
    "new_salaries = add_employee(salaries, \"Me\", 800)\n",
    "decoded_salaries = json.loads(new_salaries)\n",
    "print(decoded_salaries[\"Alfred\"])\n",
    "print(decoded_salaries[\"Jane\"])\n",
    "#print(decoded_salaries[\"Me\"])"
   ]
  },
  {
   "cell_type": "markdown",
   "id": "f1418627",
   "metadata": {},
   "source": [
    "# Data Serialization"
   ]
  },
  {
   "cell_type": "markdown",
   "id": "6d30506f",
   "metadata": {},
   "source": [
    "#### Sumber bacaan: https://docs.python-guide.org/scenarios/serialization/ "
   ]
  },
  {
   "cell_type": "raw",
   "id": "e7966faf",
   "metadata": {},
   "source": [
    "CSV file (flat data)"
   ]
  },
  {
   "cell_type": "code",
   "execution_count": 34,
   "id": "29a15d3e",
   "metadata": {},
   "outputs": [
    {
     "name": "stdout",
     "output_type": "stream",
     "text": [
      "['1;Evangs;Salatiga']\n",
      "['2;Mailoa;Ambon']\n",
      "['3;Tes;Jayapura']\n"
     ]
    }
   ],
   "source": [
    "# Reading CSV content from a file\n",
    "import csv\n",
    "with open('file.csv', newline='') as f:\n",
    "    reader = csv.reader(f)\n",
    "    for row in reader:\n",
    "        print(row)"
   ]
  },
  {
   "cell_type": "code",
   "execution_count": 36,
   "id": "d434da1f",
   "metadata": {},
   "outputs": [],
   "source": [
    "# Writing CSV content to a file\n",
    "import csv\n",
    "with open('file.csv', 'w', newline='') as f:\n",
    "    writer = csv.writer(f)\n",
    "    writer.writerows('3;Tes Lagi;Semarang')"
   ]
  },
  {
   "cell_type": "code",
   "execution_count": 37,
   "id": "97132ac9",
   "metadata": {},
   "outputs": [
    {
     "name": "stdout",
     "output_type": "stream",
     "text": [
      "['3']\n",
      "[';']\n",
      "['T']\n",
      "['e']\n",
      "['s']\n",
      "[' ']\n",
      "['L']\n",
      "['a']\n",
      "['g']\n",
      "['i']\n",
      "[';']\n",
      "['S']\n",
      "['e']\n",
      "['m']\n",
      "['a']\n",
      "['r']\n",
      "['a']\n",
      "['n']\n",
      "['g']\n"
     ]
    }
   ],
   "source": [
    "# Reading CSV content from a file\n",
    "import csv\n",
    "with open('file.csv', newline='') as f:\n",
    "    reader = csv.reader(f)\n",
    "    for row in reader:\n",
    "        print(row)"
   ]
  },
  {
   "cell_type": "raw",
   "id": "1b9cf612",
   "metadata": {},
   "source": [
    "YAML"
   ]
  },
  {
   "cell_type": "code",
   "execution_count": 41,
   "id": "abbef4d0",
   "metadata": {},
   "outputs": [
    {
     "name": "stdout",
     "output_type": "stream",
     "text": [
      "{'doe': 'a deer, a female deer', 'ray': 'a drop of golden sun', 'pi': 3.14159, 'xmas': True, 'french-hens': 3, 'calling-birds': ['huey', 'dewey', 'louie', 'fred'], 'xmas-fifth-day': {'calling-birds': 'four', 'french-hens': 3, 'golden-rings': 5, 'partridges': {'count': 1, 'location': 'a pear tree'}, 'turtle-doves': 'two'}}\n"
     ]
    }
   ],
   "source": [
    "# Reading YAML content from a file using the load method\n",
    "import yaml\n",
    "with open('file.yaml', 'r', newline='') as f:\n",
    "    try:\n",
    "        print(yaml.full_load(f))\n",
    "    except yaml.YAMLError as ymlexcp:\n",
    "        print(ymlexcp)"
   ]
  },
  {
   "cell_type": "raw",
   "id": "345bce74",
   "metadata": {},
   "source": [
    "JSON file (nested data)"
   ]
  },
  {
   "cell_type": "code",
   "execution_count": 47,
   "id": "6932896f",
   "metadata": {},
   "outputs": [],
   "source": [
    "# Reading JSON content from a file\n",
    "import json\n",
    "with open('file.json', 'r') as f:\n",
    "    data = json.load(f)"
   ]
  },
  {
   "cell_type": "code",
   "execution_count": 48,
   "id": "dba1f6e7",
   "metadata": {},
   "outputs": [
    {
     "name": "stdout",
     "output_type": "stream",
     "text": [
      "{'employees': [{'firstName': 'John', 'lastName': 'Doe'}, {'firstName': 'Anna', 'lastName': 'Smith'}, {'firstName': 'Peter', 'lastName': 'Jones'}]}\n"
     ]
    }
   ],
   "source": [
    "print(data)"
   ]
  },
  {
   "cell_type": "code",
   "execution_count": 49,
   "id": "3b676ee8",
   "metadata": {},
   "outputs": [],
   "source": [
    "# Writing JSON content to a file using the dump method\n",
    "import json\n",
    "with open('file.json', 'w') as f:\n",
    "    json.dump(data, f, sort_keys=True)"
   ]
  },
  {
   "cell_type": "raw",
   "id": "b3a5d4c3",
   "metadata": {},
   "source": [
    "XML (nested data)"
   ]
  },
  {
   "cell_type": "code",
   "execution_count": 50,
   "id": "477be108",
   "metadata": {},
   "outputs": [],
   "source": [
    "# reading XML content from a file\n",
    "import xml.etree.ElementTree as ET\n",
    "tree = ET.parse('file.xml')\n",
    "root = tree.getroot()"
   ]
  },
  {
   "cell_type": "code",
   "execution_count": 51,
   "id": "cfd29e76",
   "metadata": {},
   "outputs": [
    {
     "name": "stdout",
     "output_type": "stream",
     "text": [
      "<Element 'employees' at 0x0000015D6B3DE7C0>\n"
     ]
    }
   ],
   "source": [
    "print(root)"
   ]
  }
 ],
 "metadata": {
  "kernelspec": {
   "display_name": "Python 3 (ipykernel)",
   "language": "python",
   "name": "python3"
  },
  "language_info": {
   "codemirror_mode": {
    "name": "ipython",
    "version": 3
   },
   "file_extension": ".py",
   "mimetype": "text/x-python",
   "name": "python",
   "nbconvert_exporter": "python",
   "pygments_lexer": "ipython3",
   "version": "3.9.5"
  }
 },
 "nbformat": 4,
 "nbformat_minor": 5
}
