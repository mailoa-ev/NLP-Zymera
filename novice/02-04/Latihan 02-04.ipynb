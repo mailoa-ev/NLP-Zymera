{
 "cells": [
  {
   "cell_type": "markdown",
   "metadata": {},
   "source": [
    "### Software Design Patterns dan Python\n",
    "Sumber bacaan: \n",
    "1. https://en.wikipedia.org/wiki/Software_design_pattern\n",
    "2. https://sourcemaking.com/design_patterns\n",
    "3. https://www.toptal.com/python/python-design-patterns"
   ]
  },
  {
   "cell_type": "code",
   "execution_count": 1,
   "metadata": {},
   "outputs": [],
   "source": [
    "class User:\n",
    "    _persist_methods = ['get', 'save', 'delete']\n",
    "\n",
    "    def __init__(self, persister):\n",
    "        self._persister = persister\n",
    "\n",
    "    def __getattr__(self, attribute):\n",
    "        if attribute in self._persist_methods:\n",
    "            return getattr(self._persister, attribute)"
   ]
  },
  {
   "cell_type": "markdown",
   "metadata": {},
   "source": [
    "In this example, Logger is a Singleton."
   ]
  },
  {
   "cell_type": "code",
   "execution_count": 4,
   "metadata": {},
   "outputs": [],
   "source": [
    "class Logger(object):\n",
    "    def __new__(cls, *args, **kwargs):\n",
    "        if not hasattr(cls, '_logger'):\n",
    "            cls._logger = super(Logger, cls\n",
    "                    ).__new__(cls, *args, **kwargs)\n",
    "        return cls._logger"
   ]
  }
 ],
 "metadata": {
  "interpreter": {
   "hash": "90f1bec0ab3333bf3bb7975c69a4c8770889fb3e307d7059d5773e89f2027833"
  },
  "kernelspec": {
   "display_name": "Python 3.9.9 64-bit (system)",
   "language": "python",
   "name": "python3"
  },
  "language_info": {
   "codemirror_mode": {
    "name": "ipython",
    "version": 3
   },
   "file_extension": ".py",
   "mimetype": "text/x-python",
   "name": "python",
   "nbconvert_exporter": "python",
   "pygments_lexer": "ipython3",
   "version": "3.9.9"
  },
  "orig_nbformat": 4
 },
 "nbformat": 4,
 "nbformat_minor": 2
}
