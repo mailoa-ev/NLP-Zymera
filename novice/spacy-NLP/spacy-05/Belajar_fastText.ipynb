{
  "nbformat": 4,
  "nbformat_minor": 0,
  "metadata": {
    "colab": {
      "name": "Belajar fastText.ipynb",
      "private_outputs": true,
      "provenance": [],
      "collapsed_sections": []
    },
    "kernelspec": {
      "name": "python3",
      "display_name": "Python 3"
    },
    "language_info": {
      "name": "python"
    },
    "accelerator": "GPU"
  },
  "cells": [
    {
      "cell_type": "markdown",
      "source": [
        "# **FastText**\n",
        "\n",
        "Sumber bacaan: https://fasttext.cc/"
      ],
      "metadata": {
        "id": "uegQnAE1lHxc"
      }
    },
    {
      "cell_type": "code",
      "execution_count": null,
      "metadata": {
        "id": "IeDc48VTk8Jo"
      },
      "outputs": [],
      "source": [
        "!pip install fasttext"
      ]
    },
    {
      "cell_type": "markdown",
      "source": [
        "## Text Classification\n",
        "\n",
        "Bahan main hari ini: https://fasttext.cc/docs/en/supervised-tutorial.html"
      ],
      "metadata": {
        "id": "LflKLH6Isas4"
      }
    },
    {
      "cell_type": "markdown",
      "source": [
        "1. Ambil dulu data yang akan diolah. "
      ],
      "metadata": {
        "id": "JQUPpaXgl-_G"
      }
    },
    {
      "cell_type": "code",
      "source": [
        "!wget https://dl.fbaipublicfiles.com/fasttext/data/cooking.stackexchange.tar.gz && tar xvzf cooking.stackexchange.tar.gz"
      ],
      "metadata": {
        "id": "ciJf0342k_GF"
      },
      "execution_count": null,
      "outputs": []
    },
    {
      "cell_type": "code",
      "source": [
        "!head cooking.stackexchange.txt"
      ],
      "metadata": {
        "id": "KAOZem_vl44N"
      },
      "execution_count": null,
      "outputs": []
    },
    {
      "cell_type": "markdown",
      "source": [
        "Sebelum melakukan *training* untuk klasifier pertama, kita harus lakukan **split data** ke **train** dan **validation**. "
      ],
      "metadata": {
        "id": "AlKVbnpjmLaK"
      }
    },
    {
      "cell_type": "code",
      "source": [
        "#wc = word count\n",
        "!wc cooking.stackexchange.txt"
      ],
      "metadata": {
        "id": "u5KJ4NLVl81s"
      },
      "execution_count": null,
      "outputs": []
    },
    {
      "cell_type": "markdown",
      "source": [
        "Dataset kita berisi 15404 data contoh. Nah kita bagi 12404 sebagai **training set** dan 3000 sebagai **validation set**."
      ],
      "metadata": {
        "id": "GwKbYGqYmn-2"
      }
    },
    {
      "cell_type": "code",
      "source": [
        "!head -n 12404 cooking.stackexchange.txt > cooking.train\n",
        "!tail -n 3000 cooking.stackexchange.txt > cooking.valid"
      ],
      "metadata": {
        "id": "pb4uVG6LmOm9"
      },
      "execution_count": null,
      "outputs": []
    },
    {
      "cell_type": "markdown",
      "source": [
        "### Our first classifier\n",
        "Saatnya melakukan **train** untuk **classifier** pertama kita"
      ],
      "metadata": {
        "id": "8Wui2w0foKYN"
      }
    },
    {
      "cell_type": "code",
      "source": [
        "import fasttext\n",
        "model = fasttext.train_supervised(input=\"cooking.train\")"
      ],
      "metadata": {
        "id": "abys-nw_nANu"
      },
      "execution_count": null,
      "outputs": []
    },
    {
      "cell_type": "code",
      "source": [
        "#simpan model kita supaya nanti tinggal panggil saja\n",
        "model.save_model(\"model_cooking.bin\")"
      ],
      "metadata": {
        "id": "tW_neMpRnDda"
      },
      "execution_count": null,
      "outputs": []
    },
    {
      "cell_type": "code",
      "source": [
        "#Saatnya coba klasifier kita\n",
        "\n",
        "model.predict(\"Which baking dish is best to bake a banana bread ?\")"
      ],
      "metadata": {
        "id": "7sD1v_a5o7xv"
      },
      "execution_count": null,
      "outputs": []
    },
    {
      "cell_type": "code",
      "source": [
        "model.predict(\"Why not put knives in the dishwasher?\")"
      ],
      "metadata": {
        "id": "Gu7jkN3upGx0"
      },
      "execution_count": null,
      "outputs": []
    },
    {
      "cell_type": "code",
      "source": [
        "model.predict(\"Kenapa gak ada garam di dapur?\")"
      ],
      "metadata": {
        "id": "COlMfmzLphrv"
      },
      "execution_count": null,
      "outputs": []
    },
    {
      "cell_type": "markdown",
      "source": [
        "Label prediksinya adalah **food-safety** untuk kalimat dalam bahasa Indonesia, artinya ini tidak/kurang relevan. Terlihat kalau model ini gagal untuk contoh sederhana.\n",
        "\n",
        "Supaya lebih baik hasilnya, kita coba tes **validation data**-nya dengan menulis koding berikut:"
      ],
      "metadata": {
        "id": "10W69NBRq6ai"
      }
    },
    {
      "cell_type": "code",
      "source": [
        "model.test(\"cooking.valid\")"
      ],
      "metadata": {
        "id": "AEqlTBylqHh1"
      },
      "execution_count": null,
      "outputs": []
    },
    {
      "cell_type": "markdown",
      "source": [
        "Keluarannya jumlah samples (ada 3000), nilai presisi (**precision**) adalah satu (0.135) dan nilai **recall**-nya adalah satu (0.0583).\n",
        "Kita juga bisa lakukan komputasi dengan **precision** 5 dan **recall** 5:"
      ],
      "metadata": {
        "id": "JtH7OXuRrfms"
      }
    },
    {
      "cell_type": "code",
      "source": [
        "model.test(\"cooking.valid\", k=5)"
      ],
      "metadata": {
        "id": "KS5Jx1tPrYy-"
      },
      "execution_count": null,
      "outputs": []
    },
    {
      "cell_type": "markdown",
      "source": [
        "**Advanced readers: precision and recall**\n",
        "Presisi (*precision*) adalah angka dari benar label dibandingkan dengan label prediksi oleh **fastText**. Kalau *recall* adalah angka label yang sukses diprediksi, diantara semua label yang real. Perhatikan contoh kalimat berikut:\n",
        "\n",
        "*Why not put knives in the dishwasher?*\n",
        "\n",
        "Dalam Stack Exchange, kalimat ini di-label-i 3 tags: *equipment*, *cleaning* dan *knives*. Prediksi 5 label tertinggi oleh model berisi: *food-safety*, *baking*, *bread*, *substitutions* dan *equipment*."
      ],
      "metadata": {
        "id": "A5wylME0spZb"
      }
    },
    {
      "cell_type": "code",
      "source": [
        "model.predict(\"Why not put knives in the dishwasher?\", k=5)"
      ],
      "metadata": {
        "id": "8af_wTJKsHez"
      },
      "execution_count": null,
      "outputs": []
    },
    {
      "cell_type": "markdown",
      "source": [
        "### Making the model better\n",
        "\n",
        "Model yang dibuat oleh **fastText** untuk klasifikasi pertama sangat buruk. Mari kita coba improvisasi *performance*-nya dengan mengganti parameter default-nya. "
      ],
      "metadata": {
        "id": "SXrNtD7luO8c"
      }
    },
    {
      "cell_type": "markdown",
      "source": [
        "#### preprocessing the data\n",
        "\n",
        "Pada data yang ada, terdapat huruf besar dan tanda baca. Nah langkah pertama kita adalah buat supaya semua menjadi huruf kecil dan menghapus tanda baca supaya meningkatkan performansi dari model kita. Gunakan ***sed*** dan ***tr***:"
      ],
      "metadata": {
        "id": "lXhAdIIkvQL8"
      }
    },
    {
      "cell_type": "code",
      "source": [
        "!cat cooking.stackexchange.txt | sed -e \"s/\\([.\\!?,'/()]\\)/ \\1 /g\" | tr \"[:upper:]\" \"[:lower:]\" > cooking.preprocessed.txt\n",
        "!head -n 12404 cooking.preprocessed.txt > cooking.train\n",
        "!tail -n 3000 cooking.preprocessed.txt > cooking.valid"
      ],
      "metadata": {
        "id": "DPJu130-tsrV"
      },
      "execution_count": null,
      "outputs": []
    },
    {
      "cell_type": "markdown",
      "source": [
        "Saatnya melatih model baru kita dengan pre-processed data:"
      ],
      "metadata": {
        "id": "CsEr_0hdv30s"
      }
    },
    {
      "cell_type": "code",
      "source": [
        "import fasttext\n",
        "model = fasttext.train_supervised(input=\"cooking.train\")"
      ],
      "metadata": {
        "id": "t-iFq-ecv067"
      },
      "execution_count": null,
      "outputs": []
    },
    {
      "cell_type": "markdown",
      "source": [
        "#### more epochs and larger learning rate\n",
        "\n",
        "Secara default, fastText melihat setiap contoh *training* hanya 5X selama proses *training*, terlalu kecil, artinya **training set** kita hanya punya 12 ribu contoh *training*. Jumlah waktunya untuk tiap contoh (dikenal dengan **number of epochs**), dapat kita naikan/***increased*** menggunakan opsi **-epoch**:"
      ],
      "metadata": {
        "id": "Uv8cfQ4qwTG-"
      }
    },
    {
      "cell_type": "code",
      "source": [
        "import fasttext\n",
        "model = fasttext.train_supervised(input=\"cooking.train\", epoch=25)"
      ],
      "metadata": {
        "id": "mmaxN10GwBBj"
      },
      "execution_count": null,
      "outputs": []
    },
    {
      "cell_type": "markdown",
      "source": [
        "Mari kita coba model baru:"
      ],
      "metadata": {
        "id": "CuaViP57xUbe"
      }
    },
    {
      "cell_type": "code",
      "source": [
        "model.test(\"cooking.valid\")"
      ],
      "metadata": {
        "id": "LPryQzU9xQbP"
      },
      "execution_count": null,
      "outputs": []
    },
    {
      "cell_type": "markdown",
      "source": [
        "Yeay! hasilnya jauh lebih baik! Ini merupakan cara lain untuk meningkatkan **learning speed** dari model kita, bisa bertambah atau berkurang juga sih (increase or decrease). Nilai **learning rate** = 0, berarti **model** tidak berubah sama sekali, artinya model tidak belajar apapun. Nilai **learning rate** yang bagus adalah dalam *range* **0.1 - 1.0**."
      ],
      "metadata": {
        "id": "-4Gbdze0xnck"
      }
    },
    {
      "cell_type": "code",
      "source": [
        "model = fasttext.train_supervised(input=\"cooking.train\", lr=1.0)"
      ],
      "metadata": {
        "id": "6c6cD1kIxYdx"
      },
      "execution_count": null,
      "outputs": []
    },
    {
      "cell_type": "code",
      "source": [
        "model.test(\"cooking.valid\")"
      ],
      "metadata": {
        "id": "JHI04xwvylK_"
      },
      "execution_count": null,
      "outputs": []
    },
    {
      "cell_type": "markdown",
      "source": [
        "Yeay! Nilainya juga jauh lebih baik. Sekarang kita coba kedua hal tersebut bersamaan:"
      ],
      "metadata": {
        "id": "B26L5EA8y0Bw"
      }
    },
    {
      "cell_type": "code",
      "source": [
        "model = fasttext.train_supervised(input=\"cooking.train\", lr=1.0, epoch=25)"
      ],
      "metadata": {
        "id": "wZjMFH3RyxCw"
      },
      "execution_count": null,
      "outputs": []
    },
    {
      "cell_type": "code",
      "source": [
        "model.test(\"cooking.valid\")"
      ],
      "metadata": {
        "id": "n-AayyNKy8Pb"
      },
      "execution_count": null,
      "outputs": []
    },
    {
      "cell_type": "markdown",
      "source": [
        "#### word n-grams\n",
        "\n",
        "Oke, sekarang kita lanjut tingkatkan performansi **model** kita dengan menggunakan **word bigrams**. Ini cocok banget untuk klasifikasi seperti ***sentiment analysis***."
      ],
      "metadata": {
        "id": "RkvkCpnV0Cpw"
      }
    },
    {
      "cell_type": "code",
      "source": [
        "model = fasttext.train_supervised(input=\"cooking.train\", lr=1.0, epoch=25, wordNgrams=2)"
      ],
      "metadata": {
        "id": "y0C4j82r0YGR"
      },
      "execution_count": null,
      "outputs": []
    },
    {
      "cell_type": "code",
      "source": [
        "model.test(\"cooking.valid\")"
      ],
      "metadata": {
        "id": "H5HUQZWQ1ZI3"
      },
      "execution_count": null,
      "outputs": []
    },
    {
      "cell_type": "markdown",
      "source": [
        "Dengan beberapa langkah, kita bisa naikan nilai presisi menjadi 59.9%. Langkah kita tadi adalah:\n",
        "*   **preprocessing the data**;\n",
        "*   ubah nilai **epochs** (gunakan **-epoch**, standard range [5 - 50]);\n",
        "*   ubah nilai **learning rate** (gunakan **-lr**, standard range [0.1 - 1.0]);\n",
        "*   gunakan word n-grams (**-wordNgrams**, standard range [1 - 5].\n",
        "\n",
        "\n",
        "\n"
      ],
      "metadata": {
        "id": "y5XJ_9Bw3Ie6"
      }
    },
    {
      "cell_type": "markdown",
      "source": [
        "### Scaling things up\n",
        "\n",
        "Saat kita training model kita yang berisi ribuan data, hanya membutuhkan beberapa detik saja. Tapi, apabila dataset kita sangat besar maka butuh waktu yang lumayan lama untuk training dataset kita dengan pe-label-an. Solusinya adalah dengan menggunakan **hierarchical softmax**. Hal ini dapat dilakukan dengan menggunakan opsi **-loss hs**:"
      ],
      "metadata": {
        "id": "tniDVCaq4P1c"
      }
    },
    {
      "cell_type": "code",
      "source": [
        "model = fasttext.train_supervised(input=\"cooking.train\", lr=1.0, epoch=25, wordNgrams=2, bucket=200000, dim=50, loss='hs')"
      ],
      "metadata": {
        "id": "I3X4OLZQ43G6"
      },
      "execution_count": null,
      "outputs": []
    },
    {
      "cell_type": "markdown",
      "source": [
        "The hierarchical softmax is a loss function that approximates the softmax with a much faster computation.\n",
        "\n",
        "The idea is to build a binary tree whose leaves correspond to the labels. Each intermediate node has a binary decision activation (e.g. sigmoid) that is trained, and predicts if we should go to the left or to the right. The probability of the output unit is then given by the product of the probabilities of intermediate nodes along the path from the root to the output unit leave.\n",
        "\n",
        "For a detailed explanation, you can have a look on [this video](https://www.youtube.com/watch?v=B95LTf2rVWM).\n",
        "\n",
        "In fastText, we use a Huffman tree, so that the lookup time is faster for more frequent outputs and thus the average lookup time for the output is optimal."
      ],
      "metadata": {
        "id": "MIcRQ1Ur5J4A"
      }
    },
    {
      "cell_type": "markdown",
      "source": [
        "### **Multi-label classification**\n",
        "\n",
        "Main-main dengan **multiple labels**, kita tetap dapat menggunakan **softmax loss** juga dengan mengubah parameter untuk **prediction**. \n",
        "Cara paling aman untuk menangani ***multiple labels*** adalah dengan menggunakan **independent binary classifiers** untuk masing-masing label. Gunakan **-loss one-vs-all** atau **-loss ova**."
      ],
      "metadata": {
        "id": "nlRUPrnE5grN"
      }
    },
    {
      "cell_type": "code",
      "source": [
        "import fasttext\n",
        "model = fasttext.train_supervised(input=\"cooking.train\", lr=0.5, epoch=25, wordNgrams=2, bucket=200000, dim=50, loss='ova')"
      ],
      "metadata": {
        "id": "vKmFJ1GK5FV5"
      },
      "execution_count": null,
      "outputs": []
    },
    {
      "cell_type": "markdown",
      "source": [
        "Ide tepat untuk mengurangi **learning rate** dibandingkan kehilangan **loss functions**.\n",
        "\n",
        "Sekarang kita lihat prediksinya, kita ingin prediksi sebaik mungkin (argument -1) dan kita ingin hanya label dengan nilai probabilitas tertinggi atau sama dengan 0.5:"
      ],
      "metadata": {
        "id": "b9UvsD9F6jBQ"
      }
    },
    {
      "cell_type": "code",
      "source": [
        "model.predict(\"Which baking dish is best to bake a banana bread ?\", k=-1, threshold=0.5)"
      ],
      "metadata": {
        "id": "Qe2IPKrv43oW"
      },
      "execution_count": null,
      "outputs": []
    },
    {
      "cell_type": "code",
      "source": [
        "model.test(\"cooking.valid\", k=-1)"
      ],
      "metadata": {
        "id": "bQgcLAlA68EQ"
      },
      "execution_count": null,
      "outputs": []
    },
    {
      "cell_type": "markdown",
      "source": [
        "## Word representations\n",
        "\n",
        "Sumber bacaan: https://fasttext.cc/docs/en/unsupervised-tutorial.html"
      ],
      "metadata": {
        "id": "OJNfMGmf7huS"
      }
    },
    {
      "cell_type": "markdown",
      "source": [
        "### Getting the data\n",
        "\n",
        "Untuk main dengan **word vectors**, kita butuh **text corpus ** yang sangat besar. Nah sekarang kita main dengan artikel di Wikipedia tapi kita juga bisa gunakan sumber yang lainnya ([contoh lain](https://statmt.org/)). Untuk mengunduh file Wikipedia, jalankan koding berikut:"
      ],
      "metadata": {
        "id": "ZxQnHMkV7vcS"
      }
    },
    {
      "cell_type": "code",
      "source": [
        "!wget https://dumps.wikimedia.org/enwiki/latest/enwiki-latest-pages-articles.xml.bz2"
      ],
      "metadata": {
        "id": "4u8yOXgf8cPh"
      },
      "execution_count": null,
      "outputs": []
    },
    {
      "cell_type": "code",
      "source": [
        ""
      ],
      "metadata": {
        "id": "veXlGjhF8ela"
      },
      "execution_count": null,
      "outputs": []
    }
  ]
}