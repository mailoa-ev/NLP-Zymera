{
 "cells": [
  {
   "cell_type": "code",
   "execution_count": 4,
   "id": "27e0ef1e",
   "metadata": {},
   "outputs": [
    {
     "name": "stdout",
     "output_type": "stream",
     "text": [
      "Evangs lahir tahun 2016 \n"
     ]
    }
   ],
   "source": [
    "tahun = 2000\n",
    "event = 'lahir'\n",
    "print(f'Evangs {event} tahun {year} ')"
   ]
  },
  {
   "cell_type": "code",
   "execution_count": null,
   "id": "3b35362f",
   "metadata": {},
   "outputs": [],
   "source": []
  }
 ],
 "metadata": {
  "kernelspec": {
   "display_name": "Python 3 (ipykernel)",
   "language": "python",
   "name": "python3"
  },
  "language_info": {
   "codemirror_mode": {
    "name": "ipython",
    "version": 3
   },
   "file_extension": ".py",
   "mimetype": "text/x-python",
   "name": "python",
   "nbconvert_exporter": "python",
   "pygments_lexer": "ipython3",
   "version": "3.9.7"
  }
 },
 "nbformat": 4,
 "nbformat_minor": 5
}
