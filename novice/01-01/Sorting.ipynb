{
 "cells": [
  {
   "cell_type": "raw",
   "id": "2cab0257-9b4e-415e-9e1d-70934d4e729b",
   "metadata": {},
   "source": [
    "Membuat sorting dengan Timsort’s"
   ]
  },
  {
   "cell_type": "code",
   "execution_count": 16,
   "id": "dfbabaf6",
   "metadata": {},
   "outputs": [
    {
     "name": "stdout",
     "output_type": "stream",
     "text": [
      "Setelah diurutkan:\n",
      "[21, 43, 3, 11, 54, 22, 6, 71, 1, 2]\n",
      "Waktu untuk mengurutkan:  2196.566177368164\n"
     ]
    }
   ],
   "source": [
    "def insertion_sort(array, left=0, right=None):\n",
    "    if right is None:\n",
    "        right = len(array) - 1\n",
    "\n",
    "    num_list = [21, 43, 3, 11, 54, 22, 6, 71, 1, 2]\n",
    "\n",
    "    print(\"Sebelum diurutkan\")\n",
    "    print(num_list)\n",
    "\n",
    "    n = len(num_list)\n",
    "\n",
    "    start_time = time.time()\n",
    "        \n",
    "    for i in range(left + 1, right + 1):\n",
    "        \n",
    "        num_list = array[i]\n",
    "\n",
    "        j = i - 1\n",
    "\n",
    "        while j >= left and array[j] > num_list:\n",
    "            array[j + 1] = array[j]\n",
    "            j -= 1\n",
    "            \n",
    "        array[j + 1] = num_list\n",
    "\n",
    "    return array\n",
    "\n",
    "end_time = time.time()\n",
    "\n",
    "print(\"Setelah diurutkan:\")\n",
    "print(num_list)\n",
    "print(\"Waktu untuk mengurutkan: \", end_time - start_time)"
   ]
  },
  {
   "cell_type": "raw",
   "id": "32af5716",
   "metadata": {},
   "source": [
    "Membuat sorting dengan Quicksort"
   ]
  },
  {
   "cell_type": "code",
   "execution_count": 37,
   "id": "87ce857f-0a0e-48f4-9e55-57be1fca7748",
   "metadata": {},
   "outputs": [],
   "source": [
    "def QuickSort(arr):\n",
    "    elements = len(arr)\n",
    "    #Basis\n",
    "    if elements < 2:\n",
    "        return arr\n",
    "    \n",
    "    current_position = 0 #posisi partisi\n",
    "    \n",
    "    #Buat looping/perulangan untuk partisi\n",
    "    for i in range(1, elements): \n",
    "         if arr[i] <= arr[0]:\n",
    "            current_position += 1\n",
    "            temp = arr[i]\n",
    "            arr[i] = arr[current_position]\n",
    "            arr[current_position] = temp\n",
    "            temp = arr[0]\n",
    "            arr[0] = arr[current_position] \n",
    "            arr[current_position] = temp #Setting pivot ke posisinya\n",
    "            \n",
    "    left = QuickSort(arr[0:current_position]) #Susun elemen ke bagian kiri dari pivot\n",
    "    right = QuickSort(arr[current_position+1:elements]) #Susun elemen ke bagian kanan dari pivot\n",
    "    \n",
    "    arr = left + [arr[current_position]] + right #Gabung hasil dari kiri dan kanan\n",
    "    return arr"
   ]
  },
  {
   "cell_type": "code",
   "execution_count": 39,
   "id": "0d283007-c880-4820-867e-f5cff2db9046",
   "metadata": {},
   "outputs": [
    {
     "name": "stdout",
     "output_type": "stream",
     "text": [
      "Posisi Awal:  [4, 2, 7, 3, 1, 6]\n",
      "Setelah diurutkan:  [1, 4, 2, 3, 6, 7]\n"
     ]
    }
   ],
   "source": [
    "array_to_be_sorted = [4,2,7,3,1,6]\n",
    "print(\"Posisi Awal: \",array_to_be_sorted)\n",
    "print(\"Setelah diurutkan: \",QuickSort(array_to_be_sorted))"
   ]
  },
  {
   "cell_type": "raw",
   "id": "a1c02c8f",
   "metadata": {},
   "source": [
    "Membuat sorting dengan Bubble Sort"
   ]
  },
  {
   "cell_type": "code",
   "execution_count": 1,
   "id": "02e3ee60",
   "metadata": {},
   "outputs": [
    {
     "name": "stdout",
     "output_type": "stream",
     "text": [
      "Sebelum diurutkan\n",
      "[21, 43, 3, 11, 54, 22, 6, 71, 1, 2]\n",
      "Setelah diurutkan:\n",
      "[1, 2, 3, 6, 11, 21, 22, 43, 54, 71]\n",
      "Waktu untuk mengurutkan:  0.0009963512420654297\n"
     ]
    }
   ],
   "source": [
    "import time\n",
    "\n",
    "num_list = [21, 43, 3, 11, 54, 22, 6, 71, 1, 2]\n",
    "\n",
    "print(\"Sebelum diurutkan\")\n",
    "print(num_list)\n",
    "\n",
    "n = len(num_list)\n",
    "\n",
    "start_time = time.time()\n",
    "\n",
    "for i in range(n):\n",
    "\n",
    "    already_sorted = True\n",
    "\n",
    "    for j in range(n - i - 1):\n",
    "        if num_list[j] > num_list[j + 1]:\n",
    "            num_list[j], num_list[j + 1] = num_list[j + 1], num_list[j]\n",
    "\n",
    "            already_sorted = False\n",
    "\n",
    "    if already_sorted:\n",
    "        break\n",
    "\n",
    "end_time = time.time()\n",
    "\n",
    "print(\"Setelah diurutkan:\")\n",
    "print(num_list)\n",
    "print(\"Waktu untuk mengurutkan: \", end_time - start_time)"
   ]
  },
  {
   "cell_type": "raw",
   "id": "85dd56a1",
   "metadata": {},
   "source": [
    "Membuat sorting dengan Insertion Sort"
   ]
  },
  {
   "cell_type": "code",
   "execution_count": 2,
   "id": "7d859f19",
   "metadata": {},
   "outputs": [
    {
     "name": "stdout",
     "output_type": "stream",
     "text": [
      "Sebelum diurutkan\n",
      "[21, 43, 3, 11, 54, 22, 6, 71, 1, 2]\n",
      "Setelah diurutkan:\n",
      "[1, 2, 3, 6, 11, 21, 22, 43, 54, 71]\n",
      "Waktu untuk mengurutkan:  0.0\n"
     ]
    }
   ],
   "source": [
    "import time\n",
    "\n",
    "num_list = [21, 43, 3, 11, 54, 22, 6, 71, 1, 2]\n",
    "\n",
    "print(\"Sebelum diurutkan\")\n",
    "print(num_list)\n",
    "\n",
    "n = len(num_list)\n",
    "\n",
    "start_time = time.time()\n",
    "\n",
    "for i in range(1, n):\n",
    "    key_item = num_list[i]\n",
    "\n",
    "    j = i - 1\n",
    "\n",
    "    while j >= 0 and num_list[j] > key_item:\n",
    "        num_list[j + 1] = num_list[j]\n",
    "        j -= 1\n",
    "\n",
    "    num_list[j + 1] = key_item\n",
    "\n",
    "end_time = time.time()\n",
    "\n",
    "print(\"Setelah diurutkan:\")\n",
    "print(num_list)\n",
    "print(\"Waktu untuk mengurutkan: \", end_time - start_time)"
   ]
  }
 ],
 "metadata": {
  "kernelspec": {
   "display_name": "Python 3 (ipykernel)",
   "language": "python",
   "name": "python3"
  },
  "language_info": {
   "codemirror_mode": {
    "name": "ipython",
    "version": 3
   },
   "file_extension": ".py",
   "mimetype": "text/x-python",
   "name": "python",
   "nbconvert_exporter": "python",
   "pygments_lexer": "ipython3",
   "version": "3.9.7"
  }
 },
 "nbformat": 4,
 "nbformat_minor": 5
}
